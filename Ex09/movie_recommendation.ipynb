{
 "cells": [
  {
   "cell_type": "markdown",
   "id": "colonial-trademark",
   "metadata": {},
   "source": [
    "### 실습목표\n",
    "\n",
    "- 추천시스템의 개념과 목적을 이해한다.\n",
    "- Implicit 라이브러리를 활용하여 Matrix - Factorization(이하 MF) 기반의 추천 모델을 만들어 본다.\n",
    "- 음악 감상 기록을 활용하여 비슷한 아티스트를 찾고 아티스트를 추천해 본다.\n",
    "- 추천 시스템에서 자주 사용되는 데이터 구조인 CSR Matrix을 익힌다\n",
    "- 유저의 행위 데이터 중 Explicit data와 Implicit data의 차이점을 익힌다.\n",
    "- 새로운 데이터셋으로 직접 추천 모델을 만들어 본다."
   ]
  },
  {
   "cell_type": "markdown",
   "id": "precise-dispatch",
   "metadata": {},
   "source": [
    "### 사전 고려 사항\n",
    "\n",
    "- 유저가 영화에 대해 평점을 매긴 데이터가 데이터 크기 별로 있습니다. MovieLens 1M Dataset 사용을 권장합니다.\n",
    "- 별점 데이터는 대표적인 explicit 데이터입니다. 하지만 implicit 데이터로 간주하고 테스트해볼 수 있습니다.\n",
    "- 별점을 시청횟수로 해석해서 생각하겠습니다.\n",
    "- 또한 유저가 3점 미만으로 준 데이터는 선호하지 않는다고 가정하고 제외하겠습니다."
   ]
  },
  {
   "cell_type": "markdown",
   "id": "legislative-march",
   "metadata": {},
   "source": [
    "## 데이터 준비와 전처리"
   ]
  },
  {
   "cell_type": "code",
   "execution_count": 1,
   "id": "handed-strength",
   "metadata": {},
   "outputs": [
    {
     "data": {
      "text/html": [
       "<div>\n",
       "<style scoped>\n",
       "    .dataframe tbody tr th:only-of-type {\n",
       "        vertical-align: middle;\n",
       "    }\n",
       "\n",
       "    .dataframe tbody tr th {\n",
       "        vertical-align: top;\n",
       "    }\n",
       "\n",
       "    .dataframe thead th {\n",
       "        text-align: right;\n",
       "    }\n",
       "</style>\n",
       "<table border=\"1\" class=\"dataframe\">\n",
       "  <thead>\n",
       "    <tr style=\"text-align: right;\">\n",
       "      <th></th>\n",
       "      <th>user_id</th>\n",
       "      <th>movie_id</th>\n",
       "      <th>rating</th>\n",
       "      <th>timestamp</th>\n",
       "    </tr>\n",
       "  </thead>\n",
       "  <tbody>\n",
       "    <tr>\n",
       "      <th>0</th>\n",
       "      <td>1</td>\n",
       "      <td>1193</td>\n",
       "      <td>5</td>\n",
       "      <td>978300760</td>\n",
       "    </tr>\n",
       "    <tr>\n",
       "      <th>1</th>\n",
       "      <td>1</td>\n",
       "      <td>661</td>\n",
       "      <td>3</td>\n",
       "      <td>978302109</td>\n",
       "    </tr>\n",
       "    <tr>\n",
       "      <th>2</th>\n",
       "      <td>1</td>\n",
       "      <td>914</td>\n",
       "      <td>3</td>\n",
       "      <td>978301968</td>\n",
       "    </tr>\n",
       "    <tr>\n",
       "      <th>3</th>\n",
       "      <td>1</td>\n",
       "      <td>3408</td>\n",
       "      <td>4</td>\n",
       "      <td>978300275</td>\n",
       "    </tr>\n",
       "    <tr>\n",
       "      <th>4</th>\n",
       "      <td>1</td>\n",
       "      <td>2355</td>\n",
       "      <td>5</td>\n",
       "      <td>978824291</td>\n",
       "    </tr>\n",
       "  </tbody>\n",
       "</table>\n",
       "</div>"
      ],
      "text/plain": [
       "   user_id  movie_id  rating  timestamp\n",
       "0        1      1193       5  978300760\n",
       "1        1       661       3  978302109\n",
       "2        1       914       3  978301968\n",
       "3        1      3408       4  978300275\n",
       "4        1      2355       5  978824291"
      ]
     },
     "execution_count": 1,
     "metadata": {},
     "output_type": "execute_result"
    }
   ],
   "source": [
    "import pandas as pd\n",
    "import os\n",
    "import numpy as np\n",
    "\n",
    "rating_file_path=os.getenv('HOME') + '/aiffel/recommendata_iu/data/ml-1m/ratings.dat'\n",
    "ratings_cols = ['user_id', 'movie_id', 'rating', 'timestamp']\n",
    "ratings_orig = pd.read_csv(rating_file_path, sep='::', names=ratings_cols, engine='python', encoding = \"ISO-8859-1\")\n",
    "orginal_data_size = len(ratings_orig)\n",
    "ratings_orig.head()"
   ]
  },
  {
   "cell_type": "code",
   "execution_count": 2,
   "id": "royal-liechtenstein",
   "metadata": {},
   "outputs": [
    {
     "data": {
      "text/html": [
       "<div>\n",
       "<style scoped>\n",
       "    .dataframe tbody tr th:only-of-type {\n",
       "        vertical-align: middle;\n",
       "    }\n",
       "\n",
       "    .dataframe tbody tr th {\n",
       "        vertical-align: top;\n",
       "    }\n",
       "\n",
       "    .dataframe thead th {\n",
       "        text-align: right;\n",
       "    }\n",
       "</style>\n",
       "<table border=\"1\" class=\"dataframe\">\n",
       "  <thead>\n",
       "    <tr style=\"text-align: right;\">\n",
       "      <th></th>\n",
       "      <th>movie_id</th>\n",
       "      <th>title</th>\n",
       "      <th>genre</th>\n",
       "    </tr>\n",
       "  </thead>\n",
       "  <tbody>\n",
       "    <tr>\n",
       "      <th>0</th>\n",
       "      <td>1</td>\n",
       "      <td>Toy Story (1995)</td>\n",
       "      <td>Animation|Children's|Comedy</td>\n",
       "    </tr>\n",
       "    <tr>\n",
       "      <th>1</th>\n",
       "      <td>2</td>\n",
       "      <td>Jumanji (1995)</td>\n",
       "      <td>Adventure|Children's|Fantasy</td>\n",
       "    </tr>\n",
       "    <tr>\n",
       "      <th>2</th>\n",
       "      <td>3</td>\n",
       "      <td>Grumpier Old Men (1995)</td>\n",
       "      <td>Comedy|Romance</td>\n",
       "    </tr>\n",
       "    <tr>\n",
       "      <th>3</th>\n",
       "      <td>4</td>\n",
       "      <td>Waiting to Exhale (1995)</td>\n",
       "      <td>Comedy|Drama</td>\n",
       "    </tr>\n",
       "    <tr>\n",
       "      <th>4</th>\n",
       "      <td>5</td>\n",
       "      <td>Father of the Bride Part II (1995)</td>\n",
       "      <td>Comedy</td>\n",
       "    </tr>\n",
       "    <tr>\n",
       "      <th>...</th>\n",
       "      <td>...</td>\n",
       "      <td>...</td>\n",
       "      <td>...</td>\n",
       "    </tr>\n",
       "    <tr>\n",
       "      <th>3878</th>\n",
       "      <td>3948</td>\n",
       "      <td>Meet the Parents (2000)</td>\n",
       "      <td>Comedy</td>\n",
       "    </tr>\n",
       "    <tr>\n",
       "      <th>3879</th>\n",
       "      <td>3949</td>\n",
       "      <td>Requiem for a Dream (2000)</td>\n",
       "      <td>Drama</td>\n",
       "    </tr>\n",
       "    <tr>\n",
       "      <th>3880</th>\n",
       "      <td>3950</td>\n",
       "      <td>Tigerland (2000)</td>\n",
       "      <td>Drama</td>\n",
       "    </tr>\n",
       "    <tr>\n",
       "      <th>3881</th>\n",
       "      <td>3951</td>\n",
       "      <td>Two Family House (2000)</td>\n",
       "      <td>Drama</td>\n",
       "    </tr>\n",
       "    <tr>\n",
       "      <th>3882</th>\n",
       "      <td>3952</td>\n",
       "      <td>Contender, The (2000)</td>\n",
       "      <td>Drama|Thriller</td>\n",
       "    </tr>\n",
       "  </tbody>\n",
       "</table>\n",
       "<p>3883 rows × 3 columns</p>\n",
       "</div>"
      ],
      "text/plain": [
       "      movie_id                               title  \\\n",
       "0            1                    Toy Story (1995)   \n",
       "1            2                      Jumanji (1995)   \n",
       "2            3             Grumpier Old Men (1995)   \n",
       "3            4            Waiting to Exhale (1995)   \n",
       "4            5  Father of the Bride Part II (1995)   \n",
       "...        ...                                 ...   \n",
       "3878      3948             Meet the Parents (2000)   \n",
       "3879      3949          Requiem for a Dream (2000)   \n",
       "3880      3950                    Tigerland (2000)   \n",
       "3881      3951             Two Family House (2000)   \n",
       "3882      3952               Contender, The (2000)   \n",
       "\n",
       "                             genre  \n",
       "0      Animation|Children's|Comedy  \n",
       "1     Adventure|Children's|Fantasy  \n",
       "2                   Comedy|Romance  \n",
       "3                     Comedy|Drama  \n",
       "4                           Comedy  \n",
       "...                            ...  \n",
       "3878                        Comedy  \n",
       "3879                         Drama  \n",
       "3880                         Drama  \n",
       "3881                         Drama  \n",
       "3882                Drama|Thriller  \n",
       "\n",
       "[3883 rows x 3 columns]"
      ]
     },
     "execution_count": 2,
     "metadata": {},
     "output_type": "execute_result"
    }
   ],
   "source": [
    "# 영화 제목을 보기 위해 메타 데이터를 읽어옵니다.\n",
    "movie_file_path=os.getenv('HOME') + '/aiffel/recommendata_iu/data/ml-1m/movies.dat'\n",
    "cols = ['movie_id', 'title', 'genre'] \n",
    "movies = pd.read_csv(movie_file_path, sep='::', names=cols, engine='python', encoding='ISO-8859-1')\n",
    "movies"
   ]
  },
  {
   "cell_type": "code",
   "execution_count": 3,
   "id": "laughing-retail",
   "metadata": {},
   "outputs": [
    {
     "name": "stdout",
     "output_type": "stream",
     "text": [
      "orginal_data_size: 1000209, filtered_data_size: 836478\n",
      "Ratio of Remaining Data is 83.63%\n"
     ]
    }
   ],
   "source": [
    "# ratings = ratings_orig[ratings_orig['rating']>=3]\n",
    "# 뒤에서 데이터를 수정할 때, 원본까지 수정할지, 복사본만 수정할지 몰라서 에러가 뜸\n",
    "# copy()로 복사본임을 확실히 해주자\n",
    "\n",
    "# 3점 이상만 남깁니다.\n",
    "ratings = ratings_orig[ratings_orig['rating']>=3].copy()\n",
    "filtered_data_size = len(ratings)\n",
    "\n",
    "print(f'orginal_data_size: {orginal_data_size}, filtered_data_size: {filtered_data_size}')\n",
    "print(f'Ratio of Remaining Data is {filtered_data_size / orginal_data_size:.2%}')"
   ]
  },
  {
   "cell_type": "code",
   "execution_count": 4,
   "id": "military-region",
   "metadata": {},
   "outputs": [
    {
     "data": {
      "text/html": [
       "<div>\n",
       "<style scoped>\n",
       "    .dataframe tbody tr th:only-of-type {\n",
       "        vertical-align: middle;\n",
       "    }\n",
       "\n",
       "    .dataframe tbody tr th {\n",
       "        vertical-align: top;\n",
       "    }\n",
       "\n",
       "    .dataframe thead th {\n",
       "        text-align: right;\n",
       "    }\n",
       "</style>\n",
       "<table border=\"1\" class=\"dataframe\">\n",
       "  <thead>\n",
       "    <tr style=\"text-align: right;\">\n",
       "      <th></th>\n",
       "      <th>user_id</th>\n",
       "      <th>movie_id</th>\n",
       "      <th>count</th>\n",
       "      <th>timestamp</th>\n",
       "    </tr>\n",
       "  </thead>\n",
       "  <tbody>\n",
       "    <tr>\n",
       "      <th>0</th>\n",
       "      <td>1</td>\n",
       "      <td>1193</td>\n",
       "      <td>5</td>\n",
       "      <td>978300760</td>\n",
       "    </tr>\n",
       "    <tr>\n",
       "      <th>1</th>\n",
       "      <td>1</td>\n",
       "      <td>661</td>\n",
       "      <td>3</td>\n",
       "      <td>978302109</td>\n",
       "    </tr>\n",
       "    <tr>\n",
       "      <th>2</th>\n",
       "      <td>1</td>\n",
       "      <td>914</td>\n",
       "      <td>3</td>\n",
       "      <td>978301968</td>\n",
       "    </tr>\n",
       "    <tr>\n",
       "      <th>3</th>\n",
       "      <td>1</td>\n",
       "      <td>3408</td>\n",
       "      <td>4</td>\n",
       "      <td>978300275</td>\n",
       "    </tr>\n",
       "    <tr>\n",
       "      <th>4</th>\n",
       "      <td>1</td>\n",
       "      <td>2355</td>\n",
       "      <td>5</td>\n",
       "      <td>978824291</td>\n",
       "    </tr>\n",
       "  </tbody>\n",
       "</table>\n",
       "</div>"
      ],
      "text/plain": [
       "   user_id  movie_id  count  timestamp\n",
       "0        1      1193      5  978300760\n",
       "1        1       661      3  978302109\n",
       "2        1       914      3  978301968\n",
       "3        1      3408      4  978300275\n",
       "4        1      2355      5  978824291"
      ]
     },
     "execution_count": 4,
     "metadata": {},
     "output_type": "execute_result"
    }
   ],
   "source": [
    "# ratings 컬럼의 이름을 count로 바꿉니다.\n",
    "ratings.rename(columns={'rating':'count'}, inplace=True)\n",
    "ratings.head()"
   ]
  },
  {
   "cell_type": "code",
   "execution_count": 5,
   "id": "proper-heaven",
   "metadata": {},
   "outputs": [
    {
     "data": {
      "text/html": [
       "<div>\n",
       "<style scoped>\n",
       "    .dataframe tbody tr th:only-of-type {\n",
       "        vertical-align: middle;\n",
       "    }\n",
       "\n",
       "    .dataframe tbody tr th {\n",
       "        vertical-align: top;\n",
       "    }\n",
       "\n",
       "    .dataframe thead th {\n",
       "        text-align: right;\n",
       "    }\n",
       "</style>\n",
       "<table border=\"1\" class=\"dataframe\">\n",
       "  <thead>\n",
       "    <tr style=\"text-align: right;\">\n",
       "      <th></th>\n",
       "      <th>user_id</th>\n",
       "      <th>count</th>\n",
       "      <th>movie_id</th>\n",
       "    </tr>\n",
       "  </thead>\n",
       "  <tbody>\n",
       "    <tr>\n",
       "      <th>1000198</th>\n",
       "      <td>6040</td>\n",
       "      <td>3</td>\n",
       "      <td>2021</td>\n",
       "    </tr>\n",
       "    <tr>\n",
       "      <th>1000199</th>\n",
       "      <td>6040</td>\n",
       "      <td>5</td>\n",
       "      <td>2022</td>\n",
       "    </tr>\n",
       "    <tr>\n",
       "      <th>1000200</th>\n",
       "      <td>6040</td>\n",
       "      <td>5</td>\n",
       "      <td>2028</td>\n",
       "    </tr>\n",
       "    <tr>\n",
       "      <th>1000201</th>\n",
       "      <td>6040</td>\n",
       "      <td>4</td>\n",
       "      <td>1080</td>\n",
       "    </tr>\n",
       "    <tr>\n",
       "      <th>1000202</th>\n",
       "      <td>6040</td>\n",
       "      <td>4</td>\n",
       "      <td>1089</td>\n",
       "    </tr>\n",
       "    <tr>\n",
       "      <th>1000203</th>\n",
       "      <td>6040</td>\n",
       "      <td>3</td>\n",
       "      <td>1090</td>\n",
       "    </tr>\n",
       "    <tr>\n",
       "      <th>1000205</th>\n",
       "      <td>6040</td>\n",
       "      <td>5</td>\n",
       "      <td>1094</td>\n",
       "    </tr>\n",
       "    <tr>\n",
       "      <th>1000206</th>\n",
       "      <td>6040</td>\n",
       "      <td>5</td>\n",
       "      <td>562</td>\n",
       "    </tr>\n",
       "    <tr>\n",
       "      <th>1000207</th>\n",
       "      <td>6040</td>\n",
       "      <td>4</td>\n",
       "      <td>1096</td>\n",
       "    </tr>\n",
       "    <tr>\n",
       "      <th>1000208</th>\n",
       "      <td>6040</td>\n",
       "      <td>4</td>\n",
       "      <td>1097</td>\n",
       "    </tr>\n",
       "  </tbody>\n",
       "</table>\n",
       "</div>"
      ],
      "text/plain": [
       "         user_id  count  movie_id\n",
       "1000198     6040      3      2021\n",
       "1000199     6040      5      2022\n",
       "1000200     6040      5      2028\n",
       "1000201     6040      4      1080\n",
       "1000202     6040      4      1089\n",
       "1000203     6040      3      1090\n",
       "1000205     6040      5      1094\n",
       "1000206     6040      5       562\n",
       "1000207     6040      4      1096\n",
       "1000208     6040      4      1097"
      ]
     },
     "execution_count": 5,
     "metadata": {},
     "output_type": "execute_result"
    }
   ],
   "source": [
    "# timstamp는 사용하지 않으므로 제거\n",
    "# count 컬럼을 앞으로\n",
    "using_cols = ['user_id', 'count', 'movie_id']\n",
    "ratings = ratings[using_cols]\n",
    "ratings.tail(10)"
   ]
  },
  {
   "cell_type": "markdown",
   "id": "differential-major",
   "metadata": {},
   "source": [
    "## 분석\n",
    "\n",
    "- ratings에 있는 유니크한 영화 개수\n",
    "- rating에 있는 유니크한 사용자 수\n",
    "- 가장 인기 있는 영화 30개(인기순)"
   ]
  },
  {
   "cell_type": "code",
   "execution_count": 6,
   "id": "pointed-antique",
   "metadata": {},
   "outputs": [
    {
     "name": "stdout",
     "output_type": "stream",
     "text": [
      "836478\n"
     ]
    },
    {
     "data": {
      "text/html": [
       "<div>\n",
       "<style scoped>\n",
       "    .dataframe tbody tr th:only-of-type {\n",
       "        vertical-align: middle;\n",
       "    }\n",
       "\n",
       "    .dataframe tbody tr th {\n",
       "        vertical-align: top;\n",
       "    }\n",
       "\n",
       "    .dataframe thead th {\n",
       "        text-align: right;\n",
       "    }\n",
       "</style>\n",
       "<table border=\"1\" class=\"dataframe\">\n",
       "  <thead>\n",
       "    <tr style=\"text-align: right;\">\n",
       "      <th></th>\n",
       "      <th>user_id</th>\n",
       "      <th>count</th>\n",
       "      <th>movie_id</th>\n",
       "      <th>title</th>\n",
       "      <th>genre</th>\n",
       "    </tr>\n",
       "  </thead>\n",
       "  <tbody>\n",
       "    <tr>\n",
       "      <th>836473</th>\n",
       "      <td>5851</td>\n",
       "      <td>5</td>\n",
       "      <td>3607</td>\n",
       "      <td>One Little Indian (1973)</td>\n",
       "      <td>Comedy|Drama|Western</td>\n",
       "    </tr>\n",
       "    <tr>\n",
       "      <th>836474</th>\n",
       "      <td>5854</td>\n",
       "      <td>4</td>\n",
       "      <td>3026</td>\n",
       "      <td>Slaughterhouse (1987)</td>\n",
       "      <td>Horror</td>\n",
       "    </tr>\n",
       "    <tr>\n",
       "      <th>836475</th>\n",
       "      <td>5854</td>\n",
       "      <td>3</td>\n",
       "      <td>690</td>\n",
       "      <td>Promise, The (Versprechen, Das) (1994)</td>\n",
       "      <td>Romance</td>\n",
       "    </tr>\n",
       "    <tr>\n",
       "      <th>836476</th>\n",
       "      <td>5938</td>\n",
       "      <td>4</td>\n",
       "      <td>2909</td>\n",
       "      <td>Five Wives, Three Secretaries and Me (1998)</td>\n",
       "      <td>Documentary</td>\n",
       "    </tr>\n",
       "    <tr>\n",
       "      <th>836477</th>\n",
       "      <td>5948</td>\n",
       "      <td>5</td>\n",
       "      <td>1360</td>\n",
       "      <td>Identification of a Woman (Identificazione di ...</td>\n",
       "      <td>Drama</td>\n",
       "    </tr>\n",
       "  </tbody>\n",
       "</table>\n",
       "</div>"
      ],
      "text/plain": [
       "        user_id  count  movie_id  \\\n",
       "836473     5851      5      3607   \n",
       "836474     5854      4      3026   \n",
       "836475     5854      3       690   \n",
       "836476     5938      4      2909   \n",
       "836477     5948      5      1360   \n",
       "\n",
       "                                                    title  \\\n",
       "836473                           One Little Indian (1973)   \n",
       "836474                              Slaughterhouse (1987)   \n",
       "836475             Promise, The (Versprechen, Das) (1994)   \n",
       "836476        Five Wives, Three Secretaries and Me (1998)   \n",
       "836477  Identification of a Woman (Identificazione di ...   \n",
       "\n",
       "                       genre  \n",
       "836473  Comedy|Drama|Western  \n",
       "836474                Horror  \n",
       "836475               Romance  \n",
       "836476           Documentary  \n",
       "836477                 Drama  "
      ]
     },
     "execution_count": 6,
     "metadata": {},
     "output_type": "execute_result"
    }
   ],
   "source": [
    "# 영화 제목을 출력하기 위해 ratings과 movies를 movie_id 기준으로 합치기\n",
    "# 따로 지정하지 않아도 똑같은 컬럼명이 있으면 그걸 기준으로 합쳐준다.\n",
    "# 먼저 merge 한 후 favorite을 추가 했더니, 결측치 컬럼이 자꾸 생기길래 임시로 분리\n",
    "temp = pd.merge(ratings, movies)\n",
    "print(len(temp))\n",
    "temp.tail()"
   ]
  },
  {
   "cell_type": "code",
   "execution_count": 7,
   "id": "sustainable-looking",
   "metadata": {
    "scrolled": true
   },
   "outputs": [
    {
     "name": "stdout",
     "output_type": "stream",
     "text": [
      "3628\n",
      "3628\n"
     ]
    }
   ],
   "source": [
    "# 영화 개수 아이디와 제목 개수가 같은지 확인\n",
    "print(temp['movie_id'].nunique())\n",
    "print(temp['title'].nunique())"
   ]
  },
  {
   "cell_type": "code",
   "execution_count": 8,
   "id": "funky-latter",
   "metadata": {},
   "outputs": [
    {
     "data": {
      "text/plain": [
       "6039"
      ]
     },
     "execution_count": 8,
     "metadata": {},
     "output_type": "execute_result"
    }
   ],
   "source": [
    "# 사용자 수\n",
    "temp['user_id'].nunique()"
   ]
  },
  {
   "cell_type": "code",
   "execution_count": 9,
   "id": "offshore-transcription",
   "metadata": {},
   "outputs": [
    {
     "name": "stdout",
     "output_type": "stream",
     "text": [
      "{3598}\n"
     ]
    }
   ],
   "source": [
    "# 1부터 6040까지 있는데 왜때문에 6039명이죠..??\n",
    "# 빈 번호 내꺼\n",
    "\n",
    "print(set(range(1,6041)) - set(temp['user_id'].unique()))\n",
    "my_id = list(set(range(1,6041)) - set(temp['user_id'].unique()))[0]"
   ]
  },
  {
   "cell_type": "code",
   "execution_count": 10,
   "id": "normal-briefs",
   "metadata": {},
   "outputs": [
    {
     "data": {
      "text/plain": [
       "title\n",
       "American Beauty (1999)                                   3211\n",
       "Star Wars: Episode IV - A New Hope (1977)                2910\n",
       "Star Wars: Episode V - The Empire Strikes Back (1980)    2885\n",
       "Star Wars: Episode VI - Return of the Jedi (1983)        2716\n",
       "Saving Private Ryan (1998)                               2561\n",
       "Terminator 2: Judgment Day (1991)                        2509\n",
       "Silence of the Lambs, The (1991)                         2498\n",
       "Raiders of the Lost Ark (1981)                           2473\n",
       "Back to the Future (1985)                                2460\n",
       "Matrix, The (1999)                                       2434\n",
       "Name: user_id, dtype: int64"
      ]
     },
     "execution_count": 10,
     "metadata": {},
     "output_type": "execute_result"
    }
   ],
   "source": [
    "# 인기 많은 영화\n",
    "# title끼리 묶었을 때 user_id 갯수 세서 상위 30개 출력하기\n",
    "# 별점의 총점수 같은 게 아니라 3점 이상의 별점을 매긴 사람의 수\n",
    "artist_count = temp.groupby('title')['user_id'].count()\n",
    "artist_count.sort_values(ascending=False).head(10)"
   ]
  },
  {
   "cell_type": "markdown",
   "id": "lesbian-giving",
   "metadata": {},
   "source": [
    "## 내가 선호하는 영화 추가"
   ]
  },
  {
   "cell_type": "code",
   "execution_count": 11,
   "id": "powerful-banner",
   "metadata": {},
   "outputs": [
    {
     "data": {
      "text/plain": [
       "array(['Toy Story (1995)', 'Balto (1995)', 'Pocahontas (1995)',\n",
       "       'Goofy Movie, A (1995)', 'Gumby: The Movie (1995)',\n",
       "       'Swan Princess, The (1994)', 'Lion King, The (1994)',\n",
       "       'Pagemaster, The (1994)', 'Aladdin (1992)',\n",
       "       'Snow White and the Seven Dwarfs (1937)',\n",
       "       'Beauty and the Beast (1991)', 'Pinocchio (1940)',\n",
       "       'Heavy Metal (1981)', 'Aristocats, The (1970)',\n",
       "       'All Dogs Go to Heaven 2 (1996)',\n",
       "       'James and the Giant Peach (1996)', 'Space Jam (1996)',\n",
       "       'Oliver & Company (1988)',\n",
       "       'Wallace & Gromit: The Best of Aardman Animation (1996)',\n",
       "       'Ghost in the Shell (Kokaku kidotai) (1995)',\n",
       "       'Close Shave, A (1995)', 'Hunchback of Notre Dame, The (1996)',\n",
       "       'Land Before Time III: The Time of the Great Giving (1995)',\n",
       "       'Cinderella (1950)', 'Winnie the Pooh and the Blustery Day (1968)',\n",
       "       'Three Caballeros, The (1945)', 'Sword in the Stone, The (1963)',\n",
       "       'Dumbo (1941)', \"Pete's Dragon (1977)\",\n",
       "       'Alice in Wonderland (1951)', 'Fox and the Hound, The (1981)',\n",
       "       'Aladdin and the King of Thieves (1996)',\n",
       "       'Wrong Trousers, The (1993)', 'Faust (1994)',\n",
       "       'Transformers: The Movie, The (1986)', 'Grand Day Out, A (1992)',\n",
       "       'Akira (1988)', 'Fantasia (1940)',\n",
       "       'Beavis and Butt-head Do America (1996)',\n",
       "       \"Cats Don't Dance (1997)\", 'Hercules (1997)', 'Anastasia (1997)',\n",
       "       'Quest for Camelot (1998)', 'Mulan (1998)',\n",
       "       'Small Soldiers (1998)', 'Bambi (1942)',\n",
       "       'Black Cauldron, The (1985)', 'Great Mouse Detective, The (1986)',\n",
       "       'Jungle Book, The (1967)', 'Lady and the Tramp (1955)',\n",
       "       'Little Mermaid, The (1989)', '101 Dalmatians (1961)',\n",
       "       'Peter Pan (1953)', 'Rescuers Down Under, The (1990)',\n",
       "       'Rescuers, The (1977)', 'Return of Jafar, The (1993)',\n",
       "       'Sleeping Beauty (1959)', 'Song of the South (1946)',\n",
       "       'Steamboat Willie (1940)', 'Lord of the Rings, The (1978)',\n",
       "       'All Dogs Go to Heaven (1989)', \"Charlotte's Web (1973)\",\n",
       "       'Watership Down (1978)', 'Secret of NIMH, The (1982)',\n",
       "       'American Tail, An (1986)',\n",
       "       'American Tail: Fievel Goes West, An (1991)',\n",
       "       'I Married A Strange Person (1997)', 'Antz (1998)',\n",
       "       'Rugrats Movie, The (1998)', \"Bug's Life, A (1998)\",\n",
       "       'Prince of Egypt, The (1998)',\n",
       "       'Fantastic Planet, The (La Planète sauvage) (1973)',\n",
       "       'King and I, The (1999)', \"Doug's 1st Movie (1999)\",\n",
       "       'Tarzan (1999)', 'South Park: Bigger, Longer and Uncut (1999)',\n",
       "       'Iron Giant, The (1999)',\n",
       "       'Little Nemo: Adventures in Slumberland (1992)',\n",
       "       'Perfect Blue (1997)', 'Yellow Submarine (1968)',\n",
       "       'Thumbelina (1994)', \"Gulliver's Travels (1939)\",\n",
       "       'Who Framed Roger Rabbit? (1988)',\n",
       "       'Princess Mononoke, The (Mononoke Hime) (1997)',\n",
       "       'Robin Hood (1973)', 'Pokémon: The First Movie (1998)',\n",
       "       'Toy Story 2 (1999)', 'Fantasia 2000 (1999)',\n",
       "       'Batman: Mask of the Phantasm (1993)', 'Tigger Movie, The (2000)',\n",
       "       \"We're Back! A Dinosaur's Story (1993)\",\n",
       "       'Creature Comforts (1990)', 'Road to El Dorado, The (2000)',\n",
       "       'Time Masters (Les Maîtres du Temps) (1982)',\n",
       "       'Saludos Amigos (1943)', 'Dinosaur (2000)', 'American Pop (1981)',\n",
       "       'Titan A.E. (2000)', 'Chicken Run (2000)',\n",
       "       'Adventures of Rocky and Bullwinkle, The (2000)',\n",
       "       'Fun and Fancy Free (1947)', 'Make Mine Music (1946)',\n",
       "       'Melody Time (1948)', 'Pokémon the Movie 2000 (2000)',\n",
       "       'Digimon: The Movie (2000)'], dtype=object)"
      ]
     },
     "execution_count": 11,
     "metadata": {},
     "output_type": "execute_result"
    }
   ],
   "source": [
    "# 영화 제목 찾기\n",
    "movie_temp = movies.loc[movies['genre'].str.contains('Animation')].copy()\n",
    "movie_temp['title'].unique()"
   ]
  },
  {
   "cell_type": "code",
   "execution_count": 12,
   "id": "desperate-eating",
   "metadata": {},
   "outputs": [
    {
     "data": {
      "text/html": [
       "<div>\n",
       "<style scoped>\n",
       "    .dataframe tbody tr th:only-of-type {\n",
       "        vertical-align: middle;\n",
       "    }\n",
       "\n",
       "    .dataframe tbody tr th {\n",
       "        vertical-align: top;\n",
       "    }\n",
       "\n",
       "    .dataframe thead th {\n",
       "        text-align: right;\n",
       "    }\n",
       "</style>\n",
       "<table border=\"1\" class=\"dataframe\">\n",
       "  <thead>\n",
       "    <tr style=\"text-align: right;\">\n",
       "      <th></th>\n",
       "      <th>movie_id</th>\n",
       "      <th>title</th>\n",
       "      <th>genre</th>\n",
       "    </tr>\n",
       "  </thead>\n",
       "  <tbody>\n",
       "    <tr>\n",
       "      <th>0</th>\n",
       "      <td>1</td>\n",
       "      <td>Toy Story (1995)</td>\n",
       "      <td>Animation|Children's|Comedy</td>\n",
       "    </tr>\n",
       "    <tr>\n",
       "      <th>360</th>\n",
       "      <td>364</td>\n",
       "      <td>Lion King, The (1994)</td>\n",
       "      <td>Animation|Children's|Musical</td>\n",
       "    </tr>\n",
       "    <tr>\n",
       "      <th>711</th>\n",
       "      <td>720</td>\n",
       "      <td>Wallace &amp; Gromit: The Best of Aardman Animatio...</td>\n",
       "      <td>Animation</td>\n",
       "    </tr>\n",
       "    <tr>\n",
       "      <th>2618</th>\n",
       "      <td>2687</td>\n",
       "      <td>Tarzan (1999)</td>\n",
       "      <td>Animation|Children's</td>\n",
       "    </tr>\n",
       "    <tr>\n",
       "      <th>3045</th>\n",
       "      <td>3114</td>\n",
       "      <td>Toy Story 2 (1999)</td>\n",
       "      <td>Animation|Children's|Comedy</td>\n",
       "    </tr>\n",
       "  </tbody>\n",
       "</table>\n",
       "</div>"
      ],
      "text/plain": [
       "      movie_id                                              title  \\\n",
       "0            1                                   Toy Story (1995)   \n",
       "360        364                              Lion King, The (1994)   \n",
       "711        720  Wallace & Gromit: The Best of Aardman Animatio...   \n",
       "2618      2687                                      Tarzan (1999)   \n",
       "3045      3114                                 Toy Story 2 (1999)   \n",
       "\n",
       "                             genre  \n",
       "0      Animation|Children's|Comedy  \n",
       "360   Animation|Children's|Musical  \n",
       "711                      Animation  \n",
       "2618          Animation|Children's  \n",
       "3045   Animation|Children's|Comedy  "
      ]
     },
     "execution_count": 12,
     "metadata": {},
     "output_type": "execute_result"
    }
   ],
   "source": [
    "# 내가 좋아하는 영화 데이터 확인\n",
    "my_favorite = ['Lion King, The (1994)',\n",
    "               'Toy Story (1995)',\n",
    "               'Toy Story 2 (1999)',\n",
    "               'Wallace & Gromit: The Best of Aardman Animation (1996)',\n",
    "               'Tarzan (1999)']\n",
    "my_favorite_id = movies[movies['title'].isin(my_favorite)]\n",
    "my_favorite_id"
   ]
  },
  {
   "cell_type": "code",
   "execution_count": 13,
   "id": "floppy-teacher",
   "metadata": {
    "scrolled": true
   },
   "outputs": [
    {
     "data": {
      "text/html": [
       "<div>\n",
       "<style scoped>\n",
       "    .dataframe tbody tr th:only-of-type {\n",
       "        vertical-align: middle;\n",
       "    }\n",
       "\n",
       "    .dataframe tbody tr th {\n",
       "        vertical-align: top;\n",
       "    }\n",
       "\n",
       "    .dataframe thead th {\n",
       "        text-align: right;\n",
       "    }\n",
       "</style>\n",
       "<table border=\"1\" class=\"dataframe\">\n",
       "  <thead>\n",
       "    <tr style=\"text-align: right;\">\n",
       "      <th></th>\n",
       "      <th>user_id</th>\n",
       "      <th>count</th>\n",
       "      <th>movie_id</th>\n",
       "    </tr>\n",
       "  </thead>\n",
       "  <tbody>\n",
       "    <tr>\n",
       "      <th>1000203</th>\n",
       "      <td>6040</td>\n",
       "      <td>3</td>\n",
       "      <td>1090</td>\n",
       "    </tr>\n",
       "    <tr>\n",
       "      <th>1000205</th>\n",
       "      <td>6040</td>\n",
       "      <td>5</td>\n",
       "      <td>1094</td>\n",
       "    </tr>\n",
       "    <tr>\n",
       "      <th>1000206</th>\n",
       "      <td>6040</td>\n",
       "      <td>5</td>\n",
       "      <td>562</td>\n",
       "    </tr>\n",
       "    <tr>\n",
       "      <th>1000207</th>\n",
       "      <td>6040</td>\n",
       "      <td>4</td>\n",
       "      <td>1096</td>\n",
       "    </tr>\n",
       "    <tr>\n",
       "      <th>1000208</th>\n",
       "      <td>6040</td>\n",
       "      <td>4</td>\n",
       "      <td>1097</td>\n",
       "    </tr>\n",
       "    <tr>\n",
       "      <th>0</th>\n",
       "      <td>3598</td>\n",
       "      <td>5</td>\n",
       "      <td>1</td>\n",
       "    </tr>\n",
       "    <tr>\n",
       "      <th>360</th>\n",
       "      <td>3598</td>\n",
       "      <td>5</td>\n",
       "      <td>364</td>\n",
       "    </tr>\n",
       "    <tr>\n",
       "      <th>711</th>\n",
       "      <td>3598</td>\n",
       "      <td>5</td>\n",
       "      <td>720</td>\n",
       "    </tr>\n",
       "    <tr>\n",
       "      <th>2618</th>\n",
       "      <td>3598</td>\n",
       "      <td>5</td>\n",
       "      <td>2687</td>\n",
       "    </tr>\n",
       "    <tr>\n",
       "      <th>3045</th>\n",
       "      <td>3598</td>\n",
       "      <td>5</td>\n",
       "      <td>3114</td>\n",
       "    </tr>\n",
       "  </tbody>\n",
       "</table>\n",
       "</div>"
      ],
      "text/plain": [
       "         user_id count  movie_id\n",
       "1000203     6040     3      1090\n",
       "1000205     6040     5      1094\n",
       "1000206     6040     5       562\n",
       "1000207     6040     4      1096\n",
       "1000208     6040     4      1097\n",
       "0           3598     5         1\n",
       "360         3598     5       364\n",
       "711         3598     5       720\n",
       "2618        3598     5      2687\n",
       "3045        3598     5      3114"
      ]
     },
     "execution_count": 13,
     "metadata": {},
     "output_type": "execute_result"
    }
   ],
   "source": [
    "# my_id가 위 영화를 5회씩 봤다고 가정\n",
    "my_playlist = pd.DataFrame({'user_id': [my_id]*5, 'count':['5']*5, 'movie_id': my_favorite_id['movie_id']})\n",
    "# 3598  5     1 \n",
    "# 3598  5   364\n",
    "# 3598  5   720\n",
    "# 3598  5  2687\n",
    "# 3598  5  3114    마지막 행 이후에 추가됨\n",
    "\n",
    "if not ratings.isin({'user_id':[int(my_id)]})['user_id'].any():  # user_id에 '3598'이라는 데이터가 없다면\n",
    "    ratings = ratings.append(my_playlist)                    # 임의로 만든 my_favorite_id 데이터를 추가 \n",
    "\n",
    "ratings.tail(10)       # 잘 추가되었는지 확인"
   ]
  },
  {
   "cell_type": "code",
   "execution_count": 14,
   "id": "complicated-rocket",
   "metadata": {
    "scrolled": true
   },
   "outputs": [
    {
     "name": "stdout",
     "output_type": "stream",
     "text": [
      "836483 - 836478 = 5\n"
     ]
    }
   ],
   "source": [
    "# my_id 추가 전 후 데이터 수 비교\n",
    "print(f'{len(ratings)} - {len(temp)} = {len(ratings) - len(temp)}')"
   ]
  },
  {
   "cell_type": "markdown",
   "id": "revolutionary-newport",
   "metadata": {},
   "source": [
    "## 인덱싱하기\n",
    "\n",
    "주어진 데이터를 정수형태로 맞췄기 때문에 따로 인덱싱 작업이 필요 없을 거라고 생각했으나 \n",
    "\n",
    "CSR matrix를 만드는 과정에서 계속 ValueError: row index exceeds matrix dimensions 에러가 났다\n",
    "\n",
    "ratings.user_id 의 max가 ratings.user_id의 길이보다 작아야 한다길래 빈 번호를 찾아서 들어가봤으나\n",
    "\n",
    "어차피 0번도 비어있어서 해결이 안되는 상황이었고\n",
    "\n",
    "movie_id도 노답인 상황이라 다시 인덱싱 하기로 결정\n",
    "\n",
    "처음엔 ratings만 이용해서 계산하고 movies를 합치려고 했는데\n",
    "\n",
    "인덱싱 이후에 id가 바뀔테니 그냥 합쳐서 정리하기로 함"
   ]
  },
  {
   "cell_type": "code",
   "execution_count": 16,
   "id": "developmental-sphere",
   "metadata": {},
   "outputs": [
    {
     "name": "stdout",
     "output_type": "stream",
     "text": [
      "6040 3952\n",
      "6040 3628\n"
     ]
    }
   ],
   "source": [
    "num_user = ratings['user_id'].nunique()\n",
    "num_movie = ratings['movie_id'].nunique()\n",
    "\n",
    "print(ratings.user_id.unique().max(), ratings.movie_id.unique().max())\n",
    "print(num_user, num_movie)"
   ]
  },
  {
   "cell_type": "code",
   "execution_count": 17,
   "id": "textile-discipline",
   "metadata": {},
   "outputs": [
    {
     "data": {
      "text/html": [
       "<div>\n",
       "<style scoped>\n",
       "    .dataframe tbody tr th:only-of-type {\n",
       "        vertical-align: middle;\n",
       "    }\n",
       "\n",
       "    .dataframe tbody tr th {\n",
       "        vertical-align: top;\n",
       "    }\n",
       "\n",
       "    .dataframe thead th {\n",
       "        text-align: right;\n",
       "    }\n",
       "</style>\n",
       "<table border=\"1\" class=\"dataframe\">\n",
       "  <thead>\n",
       "    <tr style=\"text-align: right;\">\n",
       "      <th></th>\n",
       "      <th>user_id</th>\n",
       "      <th>count</th>\n",
       "      <th>movie_id</th>\n",
       "      <th>title</th>\n",
       "      <th>genre</th>\n",
       "    </tr>\n",
       "  </thead>\n",
       "  <tbody>\n",
       "    <tr>\n",
       "      <th>836478</th>\n",
       "      <td>5851</td>\n",
       "      <td>5</td>\n",
       "      <td>3607</td>\n",
       "      <td>One Little Indian (1973)</td>\n",
       "      <td>Comedy|Drama|Western</td>\n",
       "    </tr>\n",
       "    <tr>\n",
       "      <th>836479</th>\n",
       "      <td>5854</td>\n",
       "      <td>4</td>\n",
       "      <td>3026</td>\n",
       "      <td>Slaughterhouse (1987)</td>\n",
       "      <td>Horror</td>\n",
       "    </tr>\n",
       "    <tr>\n",
       "      <th>836480</th>\n",
       "      <td>5854</td>\n",
       "      <td>3</td>\n",
       "      <td>690</td>\n",
       "      <td>Promise, The (Versprechen, Das) (1994)</td>\n",
       "      <td>Romance</td>\n",
       "    </tr>\n",
       "    <tr>\n",
       "      <th>836481</th>\n",
       "      <td>5938</td>\n",
       "      <td>4</td>\n",
       "      <td>2909</td>\n",
       "      <td>Five Wives, Three Secretaries and Me (1998)</td>\n",
       "      <td>Documentary</td>\n",
       "    </tr>\n",
       "    <tr>\n",
       "      <th>836482</th>\n",
       "      <td>5948</td>\n",
       "      <td>5</td>\n",
       "      <td>1360</td>\n",
       "      <td>Identification of a Woman (Identificazione di ...</td>\n",
       "      <td>Drama</td>\n",
       "    </tr>\n",
       "  </tbody>\n",
       "</table>\n",
       "</div>"
      ],
      "text/plain": [
       "        user_id count  movie_id  \\\n",
       "836478     5851     5      3607   \n",
       "836479     5854     4      3026   \n",
       "836480     5854     3       690   \n",
       "836481     5938     4      2909   \n",
       "836482     5948     5      1360   \n",
       "\n",
       "                                                    title  \\\n",
       "836478                           One Little Indian (1973)   \n",
       "836479                              Slaughterhouse (1987)   \n",
       "836480             Promise, The (Versprechen, Das) (1994)   \n",
       "836481        Five Wives, Three Secretaries and Me (1998)   \n",
       "836482  Identification of a Woman (Identificazione di ...   \n",
       "\n",
       "                       genre  \n",
       "836478  Comedy|Drama|Western  \n",
       "836479                Horror  \n",
       "836480               Romance  \n",
       "836481           Documentary  \n",
       "836482                 Drama  "
      ]
     },
     "execution_count": 17,
     "metadata": {},
     "output_type": "execute_result"
    }
   ],
   "source": [
    "# ratings과 movies를 movie_id 기준으로 합치기\n",
    "# 따로 지정하지 않아도 똑같은 컬럼명이 있으면 그걸 기준으로 합쳐준다.\n",
    "# 먼저 merge 한 후 favorite을 추가 했더니, 결측치 컬럼이 자꾸 생기길래\n",
    "# favororite 추가 후 merge\n",
    "data = pd.merge(ratings, movies).copy()\n",
    "data.tail()"
   ]
  },
  {
   "cell_type": "code",
   "execution_count": 18,
   "id": "fluid-kingston",
   "metadata": {},
   "outputs": [
    {
     "name": "stdout",
     "output_type": "stream",
     "text": [
      "done\n"
     ]
    }
   ],
   "source": [
    "# 고유한 유저, 영화를 찾아내는 코드\n",
    "user_unique = data['user_id'].unique()\n",
    "movie_unique = data['title'].unique()\n",
    "\n",
    "# 유저, 영화 indexing 하는 코드 \n",
    "user_to_idx = {v:k for k,v in enumerate(user_unique)}\n",
    "movie_to_idx = {v:k for k,v in enumerate(movie_unique)}\n",
    "\n",
    "print('done')"
   ]
  },
  {
   "cell_type": "code",
   "execution_count": 19,
   "id": "other-discount",
   "metadata": {
    "scrolled": true
   },
   "outputs": [
    {
     "name": "stdout",
     "output_type": "stream",
     "text": [
      "user_id column indexing OK!!\n",
      "title column indexing OK!!\n"
     ]
    },
    {
     "data": {
      "text/html": [
       "<div>\n",
       "<style scoped>\n",
       "    .dataframe tbody tr th:only-of-type {\n",
       "        vertical-align: middle;\n",
       "    }\n",
       "\n",
       "    .dataframe tbody tr th {\n",
       "        vertical-align: top;\n",
       "    }\n",
       "\n",
       "    .dataframe thead th {\n",
       "        text-align: right;\n",
       "    }\n",
       "</style>\n",
       "<table border=\"1\" class=\"dataframe\">\n",
       "  <thead>\n",
       "    <tr style=\"text-align: right;\">\n",
       "      <th></th>\n",
       "      <th>user_id</th>\n",
       "      <th>count</th>\n",
       "      <th>movie_id</th>\n",
       "      <th>title</th>\n",
       "      <th>genre</th>\n",
       "    </tr>\n",
       "  </thead>\n",
       "  <tbody>\n",
       "    <tr>\n",
       "      <th>836478</th>\n",
       "      <td>1621</td>\n",
       "      <td>5</td>\n",
       "      <td>3607</td>\n",
       "      <td>3623</td>\n",
       "      <td>Comedy|Drama|Western</td>\n",
       "    </tr>\n",
       "    <tr>\n",
       "      <th>836479</th>\n",
       "      <td>3481</td>\n",
       "      <td>4</td>\n",
       "      <td>3026</td>\n",
       "      <td>3624</td>\n",
       "      <td>Horror</td>\n",
       "    </tr>\n",
       "    <tr>\n",
       "      <th>836480</th>\n",
       "      <td>3481</td>\n",
       "      <td>3</td>\n",
       "      <td>690</td>\n",
       "      <td>3625</td>\n",
       "      <td>Romance</td>\n",
       "    </tr>\n",
       "    <tr>\n",
       "      <th>836481</th>\n",
       "      <td>4159</td>\n",
       "      <td>4</td>\n",
       "      <td>2909</td>\n",
       "      <td>3626</td>\n",
       "      <td>Documentary</td>\n",
       "    </tr>\n",
       "    <tr>\n",
       "      <th>836482</th>\n",
       "      <td>1648</td>\n",
       "      <td>5</td>\n",
       "      <td>1360</td>\n",
       "      <td>3627</td>\n",
       "      <td>Drama</td>\n",
       "    </tr>\n",
       "  </tbody>\n",
       "</table>\n",
       "</div>"
      ],
      "text/plain": [
       "        user_id count  movie_id  title                 genre\n",
       "836478     1621     5      3607   3623  Comedy|Drama|Western\n",
       "836479     3481     4      3026   3624                Horror\n",
       "836480     3481     3       690   3625               Romance\n",
       "836481     4159     4      2909   3626           Documentary\n",
       "836482     1648     5      1360   3627                 Drama"
      ]
     },
     "execution_count": 19,
     "metadata": {},
     "output_type": "execute_result"
    }
   ],
   "source": [
    "# indexing을 통해 데이터 컬럼 내 값을 바꾸는 코드\n",
    "# dictionary 자료형의 get 함수는 https://wikidocs.net/16 을 참고하세요.\n",
    "\n",
    "# user_to_idx.get을 통해 user_id 컬럼의 모든 값을 인덱싱한 Series를 구해 봅시다. \n",
    "# 혹시 정상적으로 인덱싱되지 않은 row가 있다면 인덱스가 NaN이 될 테니 dropna()로 제거합니다. \n",
    "temp_user_data = data['user_id'].map(user_to_idx.get).dropna()\n",
    "if len(temp_user_data) == len(data):   # 모든 row가 정상적으로 인덱싱되었다면\n",
    "    print('user_id column indexing OK!!')\n",
    "    data['user_id'] = temp_user_data   # data['user_id']을 인덱싱된 Series로 교체해 줍니다. \n",
    "else:\n",
    "    print('user_id column indexing Fail!!')\n",
    "\n",
    "# movie_to_idx을 통해 title 컬럼도 동일한 방식으로 인덱싱해 줍니다. \n",
    "temp_movie_data = data['title'].map(movie_to_idx.get).dropna()\n",
    "if len(temp_movie_data) == len(data):\n",
    "    print('title column indexing OK!!')\n",
    "    data['title'] = temp_movie_data\n",
    "else:\n",
    "    print('title column indexing Fail!!')\n",
    "\n",
    "data.tail()"
   ]
  },
  {
   "cell_type": "code",
   "execution_count": 20,
   "id": "brutal-edwards",
   "metadata": {},
   "outputs": [
    {
     "name": "stdout",
     "output_type": "stream",
     "text": [
      "6039 3627\n",
      "6040 3628\n"
     ]
    }
   ],
   "source": [
    "num_user = data['user_id'].nunique()\n",
    "num_movie = data['title'].nunique()\n",
    "\n",
    "print(data.user_id.unique().max(), data.title.unique().max())\n",
    "print(num_user, num_movie)"
   ]
  },
  {
   "cell_type": "markdown",
   "id": "palestinian-little",
   "metadata": {},
   "source": [
    "## CSR matrix 만들기"
   ]
  },
  {
   "cell_type": "code",
   "execution_count": 21,
   "id": "blind-enzyme",
   "metadata": {},
   "outputs": [
    {
     "data": {
      "text/plain": [
       "0         5\n",
       "1         5\n",
       "2         4\n",
       "3         4\n",
       "4         5\n",
       "         ..\n",
       "836478    5\n",
       "836479    4\n",
       "836480    3\n",
       "836481    4\n",
       "836482    5\n",
       "Name: count, Length: 836483, dtype: object"
      ]
     },
     "execution_count": 21,
     "metadata": {},
     "output_type": "execute_result"
    }
   ],
   "source": [
    "data['count']"
   ]
  },
  {
   "cell_type": "code",
   "execution_count": 22,
   "id": "south-cartridge",
   "metadata": {
    "scrolled": true
   },
   "outputs": [
    {
     "data": {
      "text/plain": [
       "0         5\n",
       "1         5\n",
       "2         4\n",
       "3         4\n",
       "4         5\n",
       "         ..\n",
       "836478    5\n",
       "836479    4\n",
       "836480    3\n",
       "836481    4\n",
       "836482    5\n",
       "Name: count, Length: 836483, dtype: int64"
      ]
     },
     "execution_count": 22,
     "metadata": {},
     "output_type": "execute_result"
    }
   ],
   "source": [
    "# count가 object 라서 매트릭스를 안 만들어주길래 자료형 바꿔줌\n",
    "\n",
    "data['count'] = data['count'].astype(int)\n",
    "data['count']"
   ]
  },
  {
   "cell_type": "code",
   "execution_count": 23,
   "id": "spatial-homework",
   "metadata": {
    "scrolled": true
   },
   "outputs": [
    {
     "data": {
      "text/plain": [
       "<6040x3628 sparse matrix of type '<class 'numpy.longlong'>'\n",
       "\twith 836483 stored elements in Compressed Sparse Row format>"
      ]
     },
     "execution_count": 23,
     "metadata": {},
     "output_type": "execute_result"
    }
   ],
   "source": [
    "from scipy.sparse import csr_matrix\n",
    "\n",
    "csr_data = csr_matrix((data['count'], (data.user_id, data.title)), shape= (num_user, num_movie))\n",
    "csr_data"
   ]
  },
  {
   "cell_type": "markdown",
   "id": "fresh-interaction",
   "metadata": {},
   "source": [
    "## 모델을 구성하여 훈련\n",
    "\n",
    "als_model = AlternatingLeastSquares\n",
    "\n",
    "1. factors : 유저와 아이템의 벡터를 몇 차원으로 할 것인지 \n",
    "2. regularization : 과적합을 방지하기 위해 정규화 값을 얼마나 사용할 것인지 \n",
    "3. use_gpu : GPU를 사용할 것인지 \n",
    "4. iterations : epochs와 같은 의미입니다. 데이터를 몇 번 반복해서 학습할 것인지\n",
    "\n",
    "1,4를 늘릴수록 학습데이터를 잘 학습하게 되지만 과적합의 우려가 있음\n",
    "\n",
    "gpu 사용을 True 로 했더니\n",
    "\n",
    "#GPU training requires factor size to be a multiple of 32. Increasing factors from 100 to 128.\n",
    "\n",
    "라는 에러 메세지가 뜨길래 factor를 128로 바꿔줬는데 \n",
    "\n",
    "ValueError: No CUDA extension has been built, can't train on GPU.\n",
    "\n",
    "라는 메세지가 뜸.. 찾아봤더니 뭔가 conda 환경 문제인 것 같아서 그냥 False로 두기로 함"
   ]
  },
  {
   "cell_type": "code",
   "execution_count": 24,
   "id": "allied-ivory",
   "metadata": {},
   "outputs": [
    {
     "data": {
      "text/plain": [
       "<3628x6040 sparse matrix of type '<class 'numpy.longlong'>'\n",
       "\twith 836483 stored elements in Compressed Sparse Column format>"
      ]
     },
     "execution_count": 24,
     "metadata": {},
     "output_type": "execute_result"
    }
   ],
   "source": [
    "from implicit.als import AlternatingLeastSquares\n",
    "\n",
    "# implicit 라이브러리에서 권장하고 있는 부분입니다. 학습 내용과는 무관합니다.\n",
    "os.environ['OPENBLAS_NUM_THREADS']='1'\n",
    "os.environ['KMP_DUPLICATE_LIB_OK']='True'\n",
    "os.environ['MKL_NUM_THREADS']='1'\n",
    "\n",
    "# Implicit AlternatingLeastSquares 모델의 선언\n",
    "als_model = AlternatingLeastSquares(factors=128, \n",
    "                                    regularization=0.01, \n",
    "                                    use_gpu=False, \n",
    "                                    iterations=15, \n",
    "                                    dtype=np.float32)\n",
    "\n",
    "# als 모델은 input으로 (item X user 꼴의 matrix를 받기 때문에 Transpose해줍니다.)\n",
    "csr_data_transpose = csr_data.T\n",
    "csr_data_transpose"
   ]
  },
  {
   "cell_type": "code",
   "execution_count": 25,
   "id": "promising-responsibility",
   "metadata": {},
   "outputs": [
    {
     "data": {
      "application/vnd.jupyter.widget-view+json": {
       "model_id": "a9b4086e58284cc1917e01c99b5bab6b",
       "version_major": 2,
       "version_minor": 0
      },
      "text/plain": [
       "  0%|          | 0/15 [00:00<?, ?it/s]"
      ]
     },
     "metadata": {},
     "output_type": "display_data"
    }
   ],
   "source": [
    "# 모델 훈련\n",
    "als_model.fit(csr_data_transpose)"
   ]
  },
  {
   "cell_type": "markdown",
   "id": "otherwise-economy",
   "metadata": {},
   "source": [
    "## 모델이 예측한 선호도 파악\n",
    "\n",
    "내가 선호하는 5가지 영화 중 하나\n",
    "\n",
    "title : Toy Story (1995), movie_id : 1\n",
    "\n",
    "그 외의 영화 하나\n",
    "\n",
    "title : Jumanji (1995), movie_id : 2"
   ]
  },
  {
   "cell_type": "code",
   "execution_count": 26,
   "id": "circular-moment",
   "metadata": {},
   "outputs": [
    {
     "data": {
      "text/plain": [
       "array([-0.57822376, -0.39609516, -0.95414567,  0.666361  ,  0.2673493 ,\n",
       "       -0.4501064 , -0.04945354,  0.1580482 ,  0.6322484 ,  0.3200209 ,\n",
       "       -0.19412972,  0.26332662,  0.15475562, -0.24061759,  0.09403586,\n",
       "        0.24886487,  0.05330142,  0.45221913, -0.24973969,  0.2833698 ,\n",
       "       -0.2941154 , -0.20788637,  0.23111723,  0.553293  ,  0.49224874,\n",
       "        0.13148674,  0.5210504 , -0.200784  ,  0.7350711 , -0.2556979 ,\n",
       "        0.07121269, -0.4875192 , -0.57173586, -0.71051633, -0.14643447,\n",
       "        0.17228894,  0.5749423 , -0.39857608,  0.94394374,  0.6344942 ,\n",
       "       -0.31063595,  0.11416014, -0.23904975,  0.50572556,  0.00880369,\n",
       "        0.09433257,  0.5521122 , -0.65214074, -0.62706244,  0.5224925 ,\n",
       "        0.21000634,  0.12322996,  0.35617724, -0.07283975,  0.5146339 ,\n",
       "       -0.49625942, -0.48951775,  0.39587075, -0.8576414 ,  0.38507512,\n",
       "        0.5812303 ,  0.01762483,  0.06201517,  0.4319185 , -0.7842106 ,\n",
       "        0.5418227 ,  0.22678448,  0.1645163 ,  0.8722017 ,  0.61694133,\n",
       "       -0.8335744 , -0.05360772, -0.2637239 ,  0.9498297 , -0.03322194,\n",
       "       -0.05387228, -0.5448716 , -0.58458155, -0.38227078, -0.62191254,\n",
       "        0.24109314,  0.2902746 ,  0.6539404 ,  0.06806967,  0.47407416,\n",
       "       -0.3795923 , -0.36260796,  0.3798094 , -0.91800064,  0.03832183,\n",
       "        0.10953687,  0.23524861, -0.44591337,  0.8972803 , -0.16315855,\n",
       "        0.9269887 , -0.0823198 ,  0.72130555, -0.41214556, -0.3506062 ,\n",
       "        0.1976902 , -0.00870903, -0.22515002, -0.31894496, -0.08629895,\n",
       "        0.5764803 , -0.18453944, -0.99074394, -0.25724676,  0.62960494,\n",
       "        0.7858582 , -0.48292604, -0.8923836 ,  0.09458743, -0.06405669,\n",
       "        0.35105014, -0.05668686, -0.7885832 ,  0.749292  , -0.22015019,\n",
       "       -0.24086271, -0.5731308 ,  0.19207337, -0.49169907, -0.01374961,\n",
       "        0.18432158,  0.1466069 , -1.0710998 ], dtype=float32)"
      ]
     },
     "execution_count": 26,
     "metadata": {},
     "output_type": "execute_result"
    }
   ],
   "source": [
    "# my_id의 벡터\n",
    "my_id_ = user_to_idx[my_id]\n",
    "my_vector = als_model.user_factors[my_id_]\n",
    "my_vector"
   ]
  },
  {
   "cell_type": "code",
   "execution_count": 27,
   "id": "foster-princess",
   "metadata": {},
   "outputs": [
    {
     "data": {
      "text/plain": [
       "array([ 0.00377748, -0.01356632, -0.0131848 ,  0.01707101,  0.01712736,\n",
       "       -0.04330068,  0.00169006,  0.01165892,  0.00466082,  0.01764626,\n",
       "        0.00047193,  0.00011556, -0.01049469,  0.01170299, -0.01412884,\n",
       "        0.02554613,  0.03209743,  0.02154545, -0.00603585,  0.00351878,\n",
       "        0.01710978, -0.0068976 ,  0.00620444, -0.00229199,  0.01840092,\n",
       "        0.00220766,  0.00672136, -0.01769676,  0.03041925, -0.00121725,\n",
       "       -0.01399142, -0.00626473,  0.0170452 , -0.02907768,  0.00740331,\n",
       "        0.00440232,  0.02382636, -0.01571313,  0.02019827,  0.02448057,\n",
       "       -0.01984956, -0.00841881,  0.00715517,  0.02655918, -0.01622684,\n",
       "       -0.00613402,  0.02088703, -0.00967224, -0.02554182,  0.0250453 ,\n",
       "        0.03715481, -0.00416041,  0.00777534,  0.00863113,  0.0231662 ,\n",
       "       -0.01952973,  0.00628036,  0.03315172, -0.00085454, -0.0017914 ,\n",
       "        0.02879839, -0.00840953,  0.02362895,  0.00517683, -0.02230731,\n",
       "        0.0206351 ,  0.01276887,  0.01392343,  0.03818164,  0.01786617,\n",
       "       -0.02488601, -0.01002219,  0.00067072,  0.02963038,  0.01038983,\n",
       "        0.00863915, -0.02608144, -0.00242073,  0.00970827, -0.00791337,\n",
       "        0.00843664,  0.0156608 ,  0.00773202, -0.00139462,  0.0147069 ,\n",
       "        0.00093418,  0.0090227 ,  0.0405222 , -0.0081681 ,  0.01105766,\n",
       "        0.00049535,  0.00542252,  0.00530197,  0.03445503, -0.01820273,\n",
       "        0.03408072,  0.00368724,  0.02779835, -0.00301366,  0.0036565 ,\n",
       "        0.00229537,  0.01913715, -0.00164353, -0.00724698,  0.01073429,\n",
       "        0.02518902,  0.01549349, -0.02121452,  0.0059695 ,  0.01813694,\n",
       "        0.02768441, -0.01815131, -0.02387728,  0.00700924,  0.00144709,\n",
       "        0.01645288,  0.01151201, -0.04096857, -0.00806634,  0.00614892,\n",
       "       -0.00872375,  0.00335156,  0.01543807, -0.00178772, -0.00753434,\n",
       "        0.01875606,  0.01126136, -0.03618704], dtype=float32)"
      ]
     },
     "execution_count": 27,
     "metadata": {},
     "output_type": "execute_result"
    }
   ],
   "source": [
    "# ToyStory의 벡터\n",
    "toy_story = movie_to_idx['Toy Story (1995)']\n",
    "toy_story_vector = als_model.item_factors[toy_story]\n",
    "toy_story_vector"
   ]
  },
  {
   "cell_type": "code",
   "execution_count": 28,
   "id": "finished-tampa",
   "metadata": {},
   "outputs": [
    {
     "data": {
      "text/plain": [
       "array([ 1.40408520e-02,  2.25273557e-02, -1.17816307e-04, -2.47508544e-03,\n",
       "       -6.61492534e-03, -2.59571330e-04, -7.86825840e-04,  1.25556476e-02,\n",
       "       -8.58507876e-04,  1.93150882e-02, -1.37526996e-03, -2.01954274e-03,\n",
       "        8.08058400e-03,  2.04543024e-02,  2.85883211e-02,  1.14415847e-02,\n",
       "        1.30861131e-02,  3.30699841e-03,  1.82637974e-04,  2.01718110e-04,\n",
       "        7.69391237e-03,  3.67505848e-02, -8.03311239e-04,  3.69293839e-02,\n",
       "        4.04995307e-03,  1.94324031e-02,  2.12151688e-02,  1.74061544e-02,\n",
       "       -2.24698131e-04,  6.55654585e-03, -2.39027943e-03, -1.69055432e-03,\n",
       "        1.60440411e-02, -1.95760489e-03,  2.32521421e-03, -1.27604110e-02,\n",
       "        3.25213396e-03,  5.33046946e-03,  2.16725655e-02, -1.24639757e-02,\n",
       "       -1.77033357e-02, -5.43592684e-03, -6.47336070e-04,  2.22310461e-02,\n",
       "        1.00413021e-02,  7.09674368e-03,  6.60301885e-04,  1.73738468e-02,\n",
       "       -6.05892274e-04, -7.31942337e-03, -3.00682476e-03,  7.51550961e-03,\n",
       "        3.70097496e-02,  1.66126005e-02, -1.23229455e-02, -1.58316419e-02,\n",
       "       -1.29436385e-02,  1.98666286e-02, -6.72243303e-03, -1.34267397e-02,\n",
       "        8.19695368e-03,  8.53358582e-03,  1.85767487e-02, -9.59256571e-03,\n",
       "       -2.45690206e-03, -1.11085484e-02, -9.41270869e-03, -1.35170408e-02,\n",
       "        3.78111238e-03, -4.26969891e-05,  2.02809125e-02, -6.47114823e-03,\n",
       "        8.44864640e-03,  1.89724425e-03,  8.37217923e-03, -3.27021326e-03,\n",
       "       -9.74772777e-03,  6.72000507e-03,  6.94242446e-03,  1.42079769e-02,\n",
       "        2.02134959e-02,  1.04098124e-02,  2.33782139e-02,  6.60597812e-03,\n",
       "        2.02905443e-02,  8.35174881e-03,  7.43927807e-03,  9.83698573e-03,\n",
       "       -1.00192390e-02,  2.66949879e-04,  1.35975759e-02, -1.00188889e-02,\n",
       "        1.40912523e-02,  1.70539599e-02,  3.32035916e-03,  1.21647259e-02,\n",
       "        7.34682754e-03,  6.55212812e-03, -1.08170249e-02,  1.52503839e-02,\n",
       "        1.76823530e-02, -3.11086769e-03, -1.92892144e-03,  1.47144506e-02,\n",
       "       -2.38460209e-03,  1.80856846e-02, -2.25513224e-02,  1.60486922e-02,\n",
       "        2.38186978e-02,  1.54075949e-02,  1.49196032e-02, -9.19960032e-04,\n",
       "        1.37080224e-02,  5.08682290e-03, -7.09461933e-03,  2.72328742e-02,\n",
       "        2.01686774e-03, -1.46504380e-02, -6.72213081e-03,  3.17496769e-02,\n",
       "        2.15603169e-02, -1.28484014e-02,  3.89896147e-03, -1.20204547e-02,\n",
       "       -2.62649301e-02,  5.07786218e-03,  4.39914467e-04,  1.80509295e-02],\n",
       "      dtype=float32)"
      ]
     },
     "execution_count": 28,
     "metadata": {},
     "output_type": "execute_result"
    }
   ],
   "source": [
    "# Jumanji의 벡터\n",
    "jumanji = movie_to_idx['Jumanji (1995)']\n",
    "jumanji_vector = als_model.item_factors[jumanji]\n",
    "jumanji_vector"
   ]
  },
  {
   "cell_type": "code",
   "execution_count": 29,
   "id": "unavailable-aggregate",
   "metadata": {},
   "outputs": [
    {
     "data": {
      "text/plain": [
       "0.74432373"
      ]
     },
     "execution_count": 29,
     "metadata": {},
     "output_type": "execute_result"
    }
   ],
   "source": [
    "# my_vector와 toy_story_vector를 내적\n",
    "np.dot(my_vector, toy_story_vector)"
   ]
  },
  {
   "cell_type": "code",
   "execution_count": 30,
   "id": "designed-deviation",
   "metadata": {},
   "outputs": [
    {
     "data": {
      "text/plain": [
       "0.08010477"
      ]
     },
     "execution_count": 30,
     "metadata": {},
     "output_type": "execute_result"
    }
   ],
   "source": [
    "# my_vector와 jumanji_vector를 내적\n",
    "np.dot(my_vector, jumanji_vector)"
   ]
  },
  {
   "cell_type": "markdown",
   "id": "associate-function",
   "metadata": {},
   "source": [
    "## 내가 좋아하는 영화와 비슷한 영화"
   ]
  },
  {
   "cell_type": "code",
   "execution_count": 43,
   "id": "crude-influence",
   "metadata": {},
   "outputs": [
    {
     "data": {
      "text/plain": [
       "['Wallace & Gromit: The Best of Aardman Animation (1996)',\n",
       " 'Wrong Trousers, The (1993)',\n",
       " 'Grand Day Out, A (1992)',\n",
       " 'Close Shave, A (1995)',\n",
       " 'Creature Comforts (1990)',\n",
       " 'Batman: Mask of the Phantasm (1993)',\n",
       " 'I Married A Strange Person (1997)',\n",
       " 'Hype! (1996)',\n",
       " 'Kid, The (1921)',\n",
       " 'Better Living Through Circuitry (1999)']"
      ]
     },
     "execution_count": 43,
     "metadata": {},
     "output_type": "execute_result"
    }
   ],
   "source": [
    "# movie_to_idx 를 뒤집어, index로부터 movie의 제목을 얻는 dict를 생성합니다. \n",
    "idx_to_movie = {v:k for k,v in movie_to_idx.items()}\n",
    "\n",
    "# AlternatingLeastSquares 클래스에 구현되어 있는\n",
    "# similar_items 메서드를 통하여 비슷한 영화 찾는 함수 만들기\n",
    "def get_similar_movie(movie_title: str):\n",
    "    title_id = movie_to_idx[movie_title]\n",
    "    similar_movie = als_model.similar_items(title_id)\n",
    "    similar_movie = [idx_to_movie[i[0]] for i in similar_movie]\n",
    "    return similar_movie\n",
    "\n",
    "get_similar_movie('Wallace & Gromit: The Best of Aardman Animation (1996)')"
   ]
  },
  {
   "cell_type": "code",
   "execution_count": 37,
   "id": "sunrise-luxembourg",
   "metadata": {},
   "outputs": [
    {
     "data": {
      "text/plain": [
       "['Star Wars: Episode IV - A New Hope (1977)',\n",
       " 'Star Wars: Episode V - The Empire Strikes Back (1980)',\n",
       " 'Star Wars: Episode VI - Return of the Jedi (1983)',\n",
       " 'Raiders of the Lost Ark (1981)',\n",
       " 'Star Wars: Episode I - The Phantom Menace (1999)',\n",
       " 'Alien (1979)',\n",
       " 'E.T. the Extra-Terrestrial (1982)',\n",
       " 'Back to the Future (1985)',\n",
       " 'Matrix, The (1999)',\n",
       " 'Terminator, The (1984)']"
      ]
     },
     "execution_count": 37,
     "metadata": {},
     "output_type": "execute_result"
    }
   ],
   "source": [
    "get_similar_movie('Star Wars: Episode IV - A New Hope (1977)')"
   ]
  },
  {
   "cell_type": "markdown",
   "id": "subsequent-conspiracy",
   "metadata": {},
   "source": [
    "## 내가 좋아할 만한 영화"
   ]
  },
  {
   "cell_type": "code",
   "execution_count": 44,
   "id": "every-provision",
   "metadata": {},
   "outputs": [
    {
     "data": {
      "text/plain": [
       "[\"Bug's Life, A (1998)\",\n",
       " 'Aladdin (1992)',\n",
       " 'Beauty and the Beast (1991)',\n",
       " 'Wrong Trousers, The (1993)',\n",
       " 'Iron Giant, The (1999)',\n",
       " 'Mulan (1998)',\n",
       " 'Close Shave, A (1995)',\n",
       " 'Antz (1998)',\n",
       " 'Grand Day Out, A (1992)',\n",
       " 'Hercules (1997)',\n",
       " 'Babe (1995)',\n",
       " 'James and the Giant Peach (1996)',\n",
       " 'Prince of Egypt, The (1998)',\n",
       " 'Hunchback of Notre Dame, The (1996)',\n",
       " 'Chicken Run (2000)',\n",
       " 'Creature Comforts (1990)',\n",
       " 'Little Mermaid, The (1989)',\n",
       " 'Sixth Sense, The (1999)',\n",
       " 'South Park: Bigger, Longer and Uncut (1999)',\n",
       " 'Jungle Book, The (1967)']"
      ]
     },
     "execution_count": 44,
     "metadata": {},
     "output_type": "execute_result"
    }
   ],
   "source": [
    "# AlternatingLeastSquares 클래스의 recommend 메서드를 이용해 영화 추천 받는 함수\n",
    "# recommend에서는 user*item CSR Matrix를 받습니다.\n",
    "# filter_already_liked_items 는 유저가 이미 평가한 아이템은 제외하는 Argument\n",
    "\n",
    "def get_recommend_movie(my_id: int):\n",
    "    user = user_to_idx[my_id]\n",
    "    movie_recommended = als_model.recommend(user, csr_data, N=20, filter_already_liked_items=True)\n",
    "    movie_recommended = [idx_to_movie[i[0]] for i in movie_recommended]\n",
    "    return movie_recommended\n",
    "\n",
    "get_recommend_movie(my_id)"
   ]
  },
  {
   "cell_type": "code",
   "execution_count": 45,
   "id": "compressed-offset",
   "metadata": {},
   "outputs": [
    {
     "data": {
      "text/plain": [
       "[('Wallace & Gromit: The Best of Aardman Animation (1996)',\n",
       "  0.09529473067768784),\n",
       " ('Toy Story 2 (1999)', 0.08929240281135135),\n",
       " ('Toy Story (1995)', 0.030313683624765653),\n",
       " ('Lion King, The (1994)', 0.0028787519301335046),\n",
       " ('Tarzan (1999)', -1.592658294689289e-05)]"
      ]
     },
     "execution_count": 45,
     "metadata": {},
     "output_type": "execute_result"
    }
   ],
   "source": [
    "# 추천한 콘텐츠의 점수(합이 콘텐츠의 점수)에 기여한\n",
    "# 다른 콘텐츠와 기여도를 반환하는 메서드를 이용한 함수\n",
    "\n",
    "def get_contribution(movie_title: str):\n",
    "    title_id = movie_to_idx[movie_title]\n",
    "    user = user_to_idx[my_id]\n",
    "    explain = als_model.explain(user, csr_data, itemid=title_id)\n",
    "    explain = [(idx_to_movie[i[0]], i[1]) for i in explain[1]]\n",
    "    return explain\n",
    "\n",
    "get_contribution('Chicken Run (2000)')"
   ]
  },
  {
   "cell_type": "code",
   "execution_count": 47,
   "id": "pharmaceutical-arlington",
   "metadata": {},
   "outputs": [
    {
     "data": {
      "text/plain": [
       "[('Toy Story 2 (1999)', 0.24256089547896195),\n",
       " ('Toy Story (1995)', 0.16263144064926818),\n",
       " ('Tarzan (1999)', 0.08167275393151),\n",
       " ('Wallace & Gromit: The Best of Aardman Animation (1996)',\n",
       "  0.014546435305833365),\n",
       " ('Lion King, The (1994)', 0.004572137259285657)]"
      ]
     },
     "execution_count": 47,
     "metadata": {},
     "output_type": "execute_result"
    }
   ],
   "source": [
    "get_contribution(\"Bug's Life, A (1998)\")"
   ]
  },
  {
   "cell_type": "markdown",
   "id": "undefined-choir",
   "metadata": {},
   "source": [
    "# 회고\n",
    "\n",
    "#### 첫번째 시도\n",
    "\n",
    "ratings와 movies를 합친 후 favorite을 추가했더니, favorite의 내용을 채우기 위해 다시 merge 할때 제대로 병합이 안됐다.\n",
    "\n",
    "영화 제목 출력 시에만 임시로 병합하기로 결정\n",
    "\n",
    "#### 두번째 시도\n",
    "\n",
    "어차피 유저데이터와 영화 데이터만 필요하므로 ratings와 movie를 병합하지 않고\n",
    "\n",
    "인덱싱 없이 정수 데이터인 user_id와 movie_id 만으로 CSR Matrix를 만들려고 시도했다.\n",
    "\n",
    "row가 뭘 벗어났다고 계속 오류가 떠서 확인해 봤더니\n",
    "\n",
    "데이터데 있는 최대값이, 총 갯수보다 적어야만 제대로 만들어질 수 있었다.\n",
    "\n",
    "user_id는 0번과 3598번이 비어있고, movie_id도 빈 번호들이 너무 많아서\n",
    "\n",
    "그냥 다시 인덱싱을 하기로 결정\n",
    "\n",
    "#### 세번째 시도 \n",
    "\n",
    "movie_id를 인덱싱하면, 영화 제목 출력을 위해 ratings와 movie를 merge 할때\n",
    "\n",
    "번호가 어긋날 거라서, 먼저 병합한 후 인덱싱을 했다\n",
    "\n",
    "그랬더니 출력 결과물을 movie_id로 뱉어냄....\n",
    "\n",
    "나온 결과물을 다시 title로 전환 하려면 할 수도 있겠지만\n",
    "\n",
    "그냥 애초에 title을 인덱싱하는게 깔끔하다고 생각되어 마지막 수정\n",
    "\n",
    "### 아쉬운 점\n",
    "\n",
    "뭘 조절해서 결과물이 잘 나왔는지 안 나왔는지 확인하고 싶은데\n",
    "\n",
    "아는게 있어야 확인을 하지....\n",
    "\n",
    "지금 상태로도 몇개 비슷해보이는 유형의 영화가 보이기는 하는데\n",
    "\n",
    "애초에 애니메이션 장르가 좀 특이한 편이라서 그럭저럭 잘 나온 것 같기도 하다\n",
    "\n",
    "데이터를 다루는데 도메인이 얼마나 중요한지 새삼 느끼게 되는 노드였다.ㅠㅠ"
   ]
  },
  {
   "cell_type": "code",
   "execution_count": null,
   "id": "ordered-tours",
   "metadata": {},
   "outputs": [],
   "source": []
  }
 ],
 "metadata": {
  "kernelspec": {
   "display_name": "Python 3",
   "language": "python",
   "name": "python3"
  },
  "language_info": {
   "codemirror_mode": {
    "name": "ipython",
    "version": 3
   },
   "file_extension": ".py",
   "mimetype": "text/x-python",
   "name": "python",
   "nbconvert_exporter": "python",
   "pygments_lexer": "ipython3",
   "version": "3.7.9"
  }
 },
 "nbformat": 4,
 "nbformat_minor": 5
}
