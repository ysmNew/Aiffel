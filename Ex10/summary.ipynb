{
 "cells": [
  {
   "cell_type": "markdown",
   "metadata": {
    "id": "cuWRVCmb2Nrs"
   },
   "source": [
    "# 프로젝트: 뉴스기사 요약해보기"
   ]
  },
  {
   "cell_type": "code",
   "execution_count": 1,
   "metadata": {
    "executionInfo": {
     "elapsed": 1379,
     "status": "ok",
     "timestamp": 1629193970465,
     "user": {
      "displayName": "‍유상민[학생](이과대학 생물학과)",
      "photoUrl": "",
      "userId": "15014503589518623359"
     },
     "user_tz": -540
    },
    "id": "0_shemsW4r3D"
   },
   "outputs": [],
   "source": [
    "# 필요한 모듈 임포트하고 라이브러리 설치\n",
    "import numpy as np\n",
    "import pandas as pd\n",
    "import re\n",
    "\n",
    "import matplotlib.pyplot as plt\n",
    "from nltk.corpus import stopwords\n",
    "from bs4 import BeautifulSoup \n",
    "from tensorflow.keras.preprocessing.text import Tokenizer \n",
    "from tensorflow.keras.preprocessing.sequence import pad_sequences\n",
    "import urllib.request"
   ]
  },
  {
   "cell_type": "markdown",
   "metadata": {
    "id": "uxJ6_Yxo2e43"
   },
   "source": [
    "## 데이터 수집하기"
   ]
  },
  {
   "cell_type": "code",
   "execution_count": 2,
   "metadata": {
    "colab": {
     "base_uri": "https://localhost:8080/",
     "height": 585
    },
    "executionInfo": {
     "elapsed": 3979,
     "status": "ok",
     "timestamp": 1629193979980,
     "user": {
      "displayName": "‍유상민[학생](이과대학 생물학과)",
      "photoUrl": "",
      "userId": "15014503589518623359"
     },
     "user_tz": -540
    },
    "id": "SHR3IoQp2lrY",
    "outputId": "2ac59a7d-df80-48c4-c3b3-a6c22fd183a9"
   },
   "outputs": [
    {
     "data": {
      "text/html": [
       "<div>\n",
       "<style scoped>\n",
       "    .dataframe tbody tr th:only-of-type {\n",
       "        vertical-align: middle;\n",
       "    }\n",
       "\n",
       "    .dataframe tbody tr th {\n",
       "        vertical-align: top;\n",
       "    }\n",
       "\n",
       "    .dataframe thead th {\n",
       "        text-align: right;\n",
       "    }\n",
       "</style>\n",
       "<table border=\"1\" class=\"dataframe\">\n",
       "  <thead>\n",
       "    <tr style=\"text-align: right;\">\n",
       "      <th></th>\n",
       "      <th>headlines</th>\n",
       "      <th>text</th>\n",
       "    </tr>\n",
       "  </thead>\n",
       "  <tbody>\n",
       "    <tr>\n",
       "      <th>0</th>\n",
       "      <td>upGrad learner switches to career in ML &amp; Al w...</td>\n",
       "      <td>Saurav Kant, an alumnus of upGrad and IIIT-B's...</td>\n",
       "    </tr>\n",
       "    <tr>\n",
       "      <th>1</th>\n",
       "      <td>Delhi techie wins free food from Swiggy for on...</td>\n",
       "      <td>Kunal Shah's credit card bill payment platform...</td>\n",
       "    </tr>\n",
       "    <tr>\n",
       "      <th>2</th>\n",
       "      <td>New Zealand end Rohit Sharma-led India's 12-ma...</td>\n",
       "      <td>New Zealand defeated India by 8 wickets in the...</td>\n",
       "    </tr>\n",
       "    <tr>\n",
       "      <th>3</th>\n",
       "      <td>Aegon life iTerm insurance plan helps customer...</td>\n",
       "      <td>With Aegon Life iTerm Insurance plan, customer...</td>\n",
       "    </tr>\n",
       "    <tr>\n",
       "      <th>4</th>\n",
       "      <td>Have known Hirani for yrs, what if MeToo claim...</td>\n",
       "      <td>Speaking about the sexual harassment allegatio...</td>\n",
       "    </tr>\n",
       "    <tr>\n",
       "      <th>...</th>\n",
       "      <td>...</td>\n",
       "      <td>...</td>\n",
       "    </tr>\n",
       "    <tr>\n",
       "      <th>98396</th>\n",
       "      <td>CRPF jawan axed to death by Maoists in Chhatti...</td>\n",
       "      <td>A CRPF jawan was on Tuesday axed to death with...</td>\n",
       "    </tr>\n",
       "    <tr>\n",
       "      <th>98397</th>\n",
       "      <td>First song from Sonakshi Sinha's 'Noor' titled...</td>\n",
       "      <td>'Uff Yeh', the first song from the Sonakshi Si...</td>\n",
       "    </tr>\n",
       "    <tr>\n",
       "      <th>98398</th>\n",
       "      <td>'The Matrix' film to get a reboot: Reports</td>\n",
       "      <td>According to reports, a new version of the 199...</td>\n",
       "    </tr>\n",
       "    <tr>\n",
       "      <th>98399</th>\n",
       "      <td>Snoop Dogg aims gun at clown dressed as Trump ...</td>\n",
       "      <td>A new music video shows rapper Snoop Dogg aimi...</td>\n",
       "    </tr>\n",
       "    <tr>\n",
       "      <th>98400</th>\n",
       "      <td>Madhesi Morcha withdraws support to Nepalese g...</td>\n",
       "      <td>Madhesi Morcha, an alliance of seven political...</td>\n",
       "    </tr>\n",
       "  </tbody>\n",
       "</table>\n",
       "<p>98401 rows × 2 columns</p>\n",
       "</div>"
      ],
      "text/plain": [
       "                                               headlines  \\\n",
       "0      upGrad learner switches to career in ML & Al w...   \n",
       "1      Delhi techie wins free food from Swiggy for on...   \n",
       "2      New Zealand end Rohit Sharma-led India's 12-ma...   \n",
       "3      Aegon life iTerm insurance plan helps customer...   \n",
       "4      Have known Hirani for yrs, what if MeToo claim...   \n",
       "...                                                  ...   \n",
       "98396  CRPF jawan axed to death by Maoists in Chhatti...   \n",
       "98397  First song from Sonakshi Sinha's 'Noor' titled...   \n",
       "98398         'The Matrix' film to get a reboot: Reports   \n",
       "98399  Snoop Dogg aims gun at clown dressed as Trump ...   \n",
       "98400  Madhesi Morcha withdraws support to Nepalese g...   \n",
       "\n",
       "                                                    text  \n",
       "0      Saurav Kant, an alumnus of upGrad and IIIT-B's...  \n",
       "1      Kunal Shah's credit card bill payment platform...  \n",
       "2      New Zealand defeated India by 8 wickets in the...  \n",
       "3      With Aegon Life iTerm Insurance plan, customer...  \n",
       "4      Speaking about the sexual harassment allegatio...  \n",
       "...                                                  ...  \n",
       "98396  A CRPF jawan was on Tuesday axed to death with...  \n",
       "98397  'Uff Yeh', the first song from the Sonakshi Si...  \n",
       "98398  According to reports, a new version of the 199...  \n",
       "98399  A new music video shows rapper Snoop Dogg aimi...  \n",
       "98400  Madhesi Morcha, an alliance of seven political...  \n",
       "\n",
       "[98401 rows x 2 columns]"
      ]
     },
     "execution_count": 2,
     "metadata": {},
     "output_type": "execute_result"
    }
   ],
   "source": [
    "# 데이터 다운로드\n",
    "\n",
    "urllib.request.urlretrieve(\"https://raw.githubusercontent.com/sunnysai12345/News_Summary/master/news_summary_more.csv\", filename=\"news_summary_more.csv\")\n",
    "data = pd.read_csv('news_summary_more.csv', encoding='iso-8859-1')\n",
    "\n",
    "data"
   ]
  },
  {
   "cell_type": "markdown",
   "metadata": {
    "id": "hxH2IrHd2ode"
   },
   "source": [
    "이 데이터는 기사의 본문에 해당되는 text와 headlines 두 가지 열로 구성되어져 있습니다.\n",
    "\n",
    "추상적 요약을 하는 경우에는 text를 본문, headlines를 이미 요약된 데이터로 삼아서 모델을 학습할 수 있어요. 추출적 요약을 하는 경우에는 오직 text열만을 사용하세요."
   ]
  },
  {
   "cell_type": "markdown",
   "metadata": {
    "id": "ppeo3pLO3Kku"
   },
   "source": [
    "## 추상적 요약"
   ]
  },
  {
   "cell_type": "markdown",
   "metadata": {
    "id": "Xhipz1jA3Psf"
   },
   "source": [
    "## 데이터 전처리하기\n",
    "\n",
    "실습에서 사용된 전처리를 참고하여 각자 필요하다고 생각하는 전처리를 추가 사용하여 텍스트를 정규화 또는 정제해 보세요. 만약, 불용어 제거를 선택한다면 상대적으로 길이가 짧은 요약 데이터에 대해서도 불용어를 제거하는 것이 좋을지 고민해 보세요."
   ]
  },
  {
   "cell_type": "markdown",
   "metadata": {
    "id": "kQL4_nXcAAES"
   },
   "source": [
    "### 데이터 정리하기"
   ]
  },
  {
   "cell_type": "code",
   "execution_count": 3,
   "metadata": {
    "colab": {
     "base_uri": "https://localhost:8080/"
    },
    "executionInfo": {
     "elapsed": 29,
     "status": "ok",
     "timestamp": 1629193979983,
     "user": {
      "displayName": "‍유상민[학생](이과대학 생물학과)",
      "photoUrl": "",
      "userId": "15014503589518623359"
     },
     "user_tz": -540
    },
    "id": "egj8C6WW6AS-",
    "outputId": "0f443b79-4861-4a04-92ac-24161cc6a76f"
   },
   "outputs": [
    {
     "name": "stdout",
     "output_type": "stream",
     "text": [
      "Text 열에서 중복을 배제한 유일한 샘플의 수 : 98360\n",
      "Summary 열에서 중복을 배제한 유일한 샘플의 수 : 98280\n"
     ]
    }
   ],
   "source": [
    "# 데이터의 중복 샘플 유무를 확인\n",
    "\n",
    "print('Text 열에서 중복을 배제한 유일한 샘플의 수 :', data['text'].nunique())\n",
    "print('Summary 열에서 중복을 배제한 유일한 샘플의 수 :', data['headlines'].nunique())"
   ]
  },
  {
   "cell_type": "code",
   "execution_count": 4,
   "metadata": {
    "colab": {
     "base_uri": "https://localhost:8080/"
    },
    "executionInfo": {
     "elapsed": 25,
     "status": "ok",
     "timestamp": 1629193979985,
     "user": {
      "displayName": "‍유상민[학생](이과대학 생물학과)",
      "photoUrl": "",
      "userId": "15014503589518623359"
     },
     "user_tz": -540
    },
    "id": "OigZiFP06UyE",
    "outputId": "a2526029-0c71-44f2-9f82-dc34cb2e1b31"
   },
   "outputs": [
    {
     "name": "stdout",
     "output_type": "stream",
     "text": [
      "전체 샘플수 : 98360\n"
     ]
    }
   ],
   "source": [
    "# 데이터프레임의 drop_duplicates()를 사용해서 중복 샘플을 제거\n",
    "# text자체가 중복된 건 중복샘플이므로 text에서만 중복제거\n",
    "# inplace=True 를 설정하면 DataFrame 타입 값을 return 하지 않고 data 내부를 직접적으로 바꿉니다\n",
    "\n",
    "data.drop_duplicates(subset = ['text', ], inplace=True)\n",
    "print('전체 샘플수 :', (len(data)))"
   ]
  },
  {
   "cell_type": "code",
   "execution_count": 5,
   "metadata": {
    "colab": {
     "base_uri": "https://localhost:8080/"
    },
    "executionInfo": {
     "elapsed": 19,
     "status": "ok",
     "timestamp": 1629193979987,
     "user": {
      "displayName": "‍유상민[학생](이과대학 생물학과)",
      "photoUrl": "",
      "userId": "15014503589518623359"
     },
     "user_tz": -540
    },
    "id": "ASyaShiF7C5l",
    "outputId": "27b78a28-fd71-4995-dbbc-d10a8d55adee"
   },
   "outputs": [
    {
     "name": "stdout",
     "output_type": "stream",
     "text": [
      "headlines    0\n",
      "text         0\n",
      "dtype: int64\n"
     ]
    }
   ],
   "source": [
    "# .isnull().sum()을 이용하여 Null 값 찾기\n",
    "\n",
    "print(data.isnull().sum())"
   ]
  },
  {
   "cell_type": "code",
   "execution_count": 6,
   "metadata": {
    "colab": {
     "base_uri": "https://localhost:8080/"
    },
    "executionInfo": {
     "elapsed": 887,
     "status": "ok",
     "timestamp": 1629193980860,
     "user": {
      "displayName": "‍유상민[학생](이과대학 생물학과)",
      "photoUrl": "",
      "userId": "15014503589518623359"
     },
     "user_tz": -540
    },
    "id": "cCak26XM7Jnl",
    "outputId": "c7890f78-093b-4745-d661-011c8608ffe6"
   },
   "outputs": [
    {
     "name": "stdout",
     "output_type": "stream",
     "text": [
      "정규화 사전의 수:  120\n"
     ]
    }
   ],
   "source": [
    "#  텍스트 정규화를 위한 사전(dictionary)을 구성\n",
    "\n",
    "contractions = {\"ain't\": \"is not\", \"aren't\": \"are not\",\"can't\": \"cannot\", \"'cause\": \"because\", \"could've\": \"could have\", \"couldn't\": \"could not\",\n",
    "                           \"didn't\": \"did not\",  \"doesn't\": \"does not\", \"don't\": \"do not\", \"hadn't\": \"had not\", \"hasn't\": \"has not\", \"haven't\": \"have not\",\n",
    "                           \"he'd\": \"he would\",\"he'll\": \"he will\", \"he's\": \"he is\", \"how'd\": \"how did\", \"how'd'y\": \"how do you\", \"how'll\": \"how will\", \"how's\": \"how is\",\n",
    "                           \"I'd\": \"I would\", \"I'd've\": \"I would have\", \"I'll\": \"I will\", \"I'll've\": \"I will have\",\"I'm\": \"I am\", \"I've\": \"I have\", \"i'd\": \"i would\",\n",
    "                           \"i'd've\": \"i would have\", \"i'll\": \"i will\",  \"i'll've\": \"i will have\",\"i'm\": \"i am\", \"i've\": \"i have\", \"isn't\": \"is not\", \"it'd\": \"it would\",\n",
    "                           \"it'd've\": \"it would have\", \"it'll\": \"it will\", \"it'll've\": \"it will have\",\"it's\": \"it is\", \"let's\": \"let us\", \"ma'am\": \"madam\",\n",
    "                           \"mayn't\": \"may not\", \"might've\": \"might have\",\"mightn't\": \"might not\",\"mightn't've\": \"might not have\", \"must've\": \"must have\",\n",
    "                           \"mustn't\": \"must not\", \"mustn't've\": \"must not have\", \"needn't\": \"need not\", \"needn't've\": \"need not have\",\"o'clock\": \"of the clock\",\n",
    "                           \"oughtn't\": \"ought not\", \"oughtn't've\": \"ought not have\", \"shan't\": \"shall not\", \"sha'n't\": \"shall not\", \"shan't've\": \"shall not have\",\n",
    "                           \"she'd\": \"she would\", \"she'd've\": \"she would have\", \"she'll\": \"she will\", \"she'll've\": \"she will have\", \"she's\": \"she is\",\n",
    "                           \"should've\": \"should have\", \"shouldn't\": \"should not\", \"shouldn't've\": \"should not have\", \"so've\": \"so have\",\"so's\": \"so as\",\n",
    "                           \"this's\": \"this is\",\"that'd\": \"that would\", \"that'd've\": \"that would have\", \"that's\": \"that is\", \"there'd\": \"there would\",\n",
    "                           \"there'd've\": \"there would have\", \"there's\": \"there is\", \"here's\": \"here is\",\"they'd\": \"they would\", \"they'd've\": \"they would have\",\n",
    "                           \"they'll\": \"they will\", \"they'll've\": \"they will have\", \"they're\": \"they are\", \"they've\": \"they have\", \"to've\": \"to have\",\n",
    "                           \"wasn't\": \"was not\", \"we'd\": \"we would\", \"we'd've\": \"we would have\", \"we'll\": \"we will\", \"we'll've\": \"we will have\", \"we're\": \"we are\",\n",
    "                           \"we've\": \"we have\", \"weren't\": \"were not\", \"what'll\": \"what will\", \"what'll've\": \"what will have\", \"what're\": \"what are\",\n",
    "                           \"what's\": \"what is\", \"what've\": \"what have\", \"when's\": \"when is\", \"when've\": \"when have\", \"where'd\": \"where did\", \"where's\": \"where is\",\n",
    "                           \"where've\": \"where have\", \"who'll\": \"who will\", \"who'll've\": \"who will have\", \"who's\": \"who is\", \"who've\": \"who have\",\n",
    "                           \"why's\": \"why is\", \"why've\": \"why have\", \"will've\": \"will have\", \"won't\": \"will not\", \"won't've\": \"will not have\",\n",
    "                           \"would've\": \"would have\", \"wouldn't\": \"would not\", \"wouldn't've\": \"would not have\", \"y'all\": \"you all\",\n",
    "                           \"y'all'd\": \"you all would\",\"y'all'd've\": \"you all would have\",\"y'all're\": \"you all are\",\"y'all've\": \"you all have\",\n",
    "                           \"you'd\": \"you would\", \"you'd've\": \"you would have\", \"you'll\": \"you will\", \"you'll've\": \"you will have\",\n",
    "                           \"you're\": \"you are\", \"you've\": \"you have\"}\n",
    "\n",
    "print(\"정규화 사전의 수: \", len(contractions))"
   ]
  },
  {
   "cell_type": "code",
   "execution_count": 7,
   "metadata": {
    "colab": {
     "base_uri": "https://localhost:8080/"
    },
    "executionInfo": {
     "elapsed": 24,
     "status": "ok",
     "timestamp": 1629193980861,
     "user": {
      "displayName": "‍유상민[학생](이과대학 생물학과)",
      "photoUrl": "",
      "userId": "15014503589518623359"
     },
     "user_tz": -540
    },
    "id": "6jf0bxQ27S3W",
    "outputId": "2b337fd1-80ea-4209-ffbd-93336acb6d78"
   },
   "outputs": [
    {
     "name": "stdout",
     "output_type": "stream",
     "text": [
      "불용어 개수 : 179\n",
      "['i', 'me', 'my', 'myself', 'we', 'our', 'ours', 'ourselves', 'you', \"you're\", \"you've\", \"you'll\", \"you'd\", 'your', 'yours', 'yourself', 'yourselves', 'he', 'him', 'his', 'himself', 'she', \"she's\", 'her', 'hers', 'herself', 'it', \"it's\", 'its', 'itself', 'they', 'them', 'their', 'theirs', 'themselves', 'what', 'which', 'who', 'whom', 'this', 'that', \"that'll\", 'these', 'those', 'am', 'is', 'are', 'was', 'were', 'be', 'been', 'being', 'have', 'has', 'had', 'having', 'do', 'does', 'did', 'doing', 'a', 'an', 'the', 'and', 'but', 'if', 'or', 'because', 'as', 'until', 'while', 'of', 'at', 'by', 'for', 'with', 'about', 'against', 'between', 'into', 'through', 'during', 'before', 'after', 'above', 'below', 'to', 'from', 'up', 'down', 'in', 'out', 'on', 'off', 'over', 'under', 'again', 'further', 'then', 'once', 'here', 'there', 'when', 'where', 'why', 'how', 'all', 'any', 'both', 'each', 'few', 'more', 'most', 'other', 'some', 'such', 'no', 'nor', 'not', 'only', 'own', 'same', 'so', 'than', 'too', 'very', 's', 't', 'can', 'will', 'just', 'don', \"don't\", 'should', \"should've\", 'now', 'd', 'll', 'm', 'o', 're', 've', 'y', 'ain', 'aren', \"aren't\", 'couldn', \"couldn't\", 'didn', \"didn't\", 'doesn', \"doesn't\", 'hadn', \"hadn't\", 'hasn', \"hasn't\", 'haven', \"haven't\", 'isn', \"isn't\", 'ma', 'mightn', \"mightn't\", 'mustn', \"mustn't\", 'needn', \"needn't\", 'shan', \"shan't\", 'shouldn', \"shouldn't\", 'wasn', \"wasn't\", 'weren', \"weren't\", 'won', \"won't\", 'wouldn', \"wouldn't\"]\n"
     ]
    },
    {
     "name": "stderr",
     "output_type": "stream",
     "text": [
      "[nltk_data] Downloading package stopwords to /aiffel/nltk_data...\n",
      "[nltk_data]   Package stopwords is already up-to-date!\n"
     ]
    }
   ],
   "source": [
    "# NLTK에서 제공하는 불용어 리스트를 참조해, 샘플에서 불용어를 제거\n",
    "\n",
    "import nltk\n",
    "nltk.download('stopwords')\n",
    "\n",
    "print('불용어 개수 :', len(stopwords.words('english') ))\n",
    "print(stopwords.words('english'))"
   ]
  },
  {
   "cell_type": "code",
   "execution_count": 8,
   "metadata": {
    "colab": {
     "base_uri": "https://localhost:8080/"
    },
    "executionInfo": {
     "elapsed": 18,
     "status": "ok",
     "timestamp": 1629193980862,
     "user": {
      "displayName": "‍유상민[학생](이과대학 생물학과)",
      "photoUrl": "",
      "userId": "15014503589518623359"
     },
     "user_tz": -540
    },
    "id": "5dxZ2b2X70Q_",
    "outputId": "d332e850-1580-4f03-ffba-c4993c8861cc"
   },
   "outputs": [
    {
     "name": "stdout",
     "output_type": "stream",
     "text": [
      "done\n"
     ]
    }
   ],
   "source": [
    "# 데이터 전처리 함수\n",
    "# headlines의 불용어는 남겨두기 위해 T/F 인자로 구분\n",
    "\n",
    "def preprocess_sentence(sentence, remove_stopwords=True):\n",
    "    sentence = sentence.lower() # 텍스트 소문자화\n",
    "    sentence = BeautifulSoup(sentence, \"lxml\").text # <br />, <a href = ...> 등의 html 태그 제거\n",
    "    sentence = re.sub(r'\\([^)]*\\)', '', sentence) # 괄호로 닫힌 문자열 (...) 제거 Ex) my husband (and myself!) for => my husband for\n",
    "    sentence = re.sub('\"','', sentence) # 쌍따옴표 \" 제거\n",
    "    sentence = ' '.join([contractions[t] if t in contractions else t for t in sentence.split(\" \")]) # 약어 정규화\n",
    "    sentence = re.sub(r\"'s\\b\",\"\", sentence) # 소유격 제거. Ex) roland's -> roland\n",
    "    sentence = re.sub(\"[^a-zA-Z]\", \" \", sentence) # 영어 외 문자(숫자, 특수문자 등) 공백으로 변환\n",
    "    sentence = re.sub('[m]{2,}', 'mm', sentence) # m이 3개 이상이면 2개로 변경. Ex) ummmmmmm yeah -> umm yeah\n",
    "    \n",
    "    # 불용어 제거 (Text)\n",
    "    if remove_stopwords:\n",
    "        tokens = ' '.join(word for word in sentence.split() if not word in stopwords.words('english') if len(word) > 1)\n",
    "    # 불용어 미제거 (Summary)\n",
    "    else:\n",
    "        tokens = ' '.join(word for word in sentence.split() if len(word) > 1)\n",
    "    return tokens\n",
    "\n",
    "print('done')"
   ]
  },
  {
   "cell_type": "markdown",
   "metadata": {
    "id": "LQoq2mHBoEt6"
   },
   "source": [
    "\n",
    "```python\n",
    "# 일반 버전 전처리 코드\n",
    "\n",
    "clean_text = []\n",
    "# 전체 Text 데이터에 대한 전처리 : 10분 이상 시간이 걸릴 수 있습니다. \n",
    "for s in data['text']:\n",
    "    clean_text.append(preprocess_sentence(s))\n",
    "\n",
    "# 전처리 후 출력\n",
    "print(clean_text[:5])\n",
    "\n",
    "\n",
    "clean_summary = []\n",
    "# 전체 Summary 데이터에 대한 전처리 : 5분 이상 시간이 걸릴 수 있습니다. \n",
    "for s in data['headlines']:\n",
    "    clean_summary.append(preprocess_sentence(s, False))\n",
    "\n",
    "print(clean_summary[:5])\n",
    "```\n"
   ]
  },
  {
   "cell_type": "code",
   "execution_count": 9,
   "metadata": {
    "colab": {
     "base_uri": "https://localhost:8080/"
    },
    "executionInfo": {
     "elapsed": 793715,
     "status": "ok",
     "timestamp": 1629194774568,
     "user": {
      "displayName": "‍유상민[학생](이과대학 생물학과)",
      "photoUrl": "",
      "userId": "15014503589518623359"
     },
     "user_tz": -540
    },
    "id": "EK26bB0_8crA",
    "outputId": "7af5d679-c214-4f46-c4b5-75f893cfde19"
   },
   "outputs": [
    {
     "name": "stdout",
     "output_type": "stream",
     "text": [
      "186.28441500663757  seconds\n",
      "['saurav kant alumnus upgrad iiit pg program machine learning artificial intelligence sr systems engineer infosys almost years work experience program upgrad degree career support helped transition data scientist tech mahindra salary hike upgrad online power learning powered lakh careers'\n",
      " 'kunal shah credit card bill payment platform cred gave users chance win free food swiggy one year pranav kaushik delhi techie bagged reward spending cred coins users get one cred coin per rupee bill paid used avail rewards brands like ixigo bookmyshow ubereats cult fit'\n",
      " 'new zealand defeated india wickets fourth odi hamilton thursday win first match five match odi series india lost international match rohit sharma captaincy consecutive victories dating back march match witnessed india getting seventh lowest total odi cricket history'\n",
      " ...\n",
      " 'according reports new version science fiction film matrix development michael jordan reportedly play lead role film screenwriter zak penn talks write script film reports added actor keanu reeves starred original film followed two sequels'\n",
      " 'new music video shows rapper snoop dogg aiming toy gun clown character parodying us president donald trump video also shows tv airing news conference headline ronald klump wants deport doggs airing live clown house video remixed version song lavender'\n",
      " 'madhesi morcha alliance seven political parties withdrawn support pm pushpa kamal dahal led nepal government failed meet seven day ultimatum fulfil demands including endorsement revised constitution amendment bill morcha seats parliament despite withdrawal support immediate threat government']\n",
      "5.897240161895752  seconds\n",
      "['upgrad learner switches to career in ml al with salary hike'\n",
      " 'delhi techie wins free food from swiggy for one year on cred'\n",
      " 'new zealand end rohit sharma led india match winning streak' ...\n",
      " 'the matrix film to get reboot reports'\n",
      " 'snoop dogg aims gun at clown dressed as trump in new video'\n",
      " 'madhesi morcha withdraws support to nepalese government']\n"
     ]
    }
   ],
   "source": [
    "# 멀티프로세싱 버전 전처리 코드\n",
    "\n",
    "import multiprocessing as mp   # 멀티 프로세싱으로 전처리 속도를 획기적으로 줄여봅시다\n",
    "from multiprocessing import Pool\n",
    "import time\n",
    "from functools import partial  # map을 할 때 함수에 여러 인자를 넣어줄 수 있도록 합니다\n",
    "\n",
    "start = time.time()\n",
    "\n",
    "# num_cores 만큼 쪼개진 데이터를 전처리하여 반환합니다\n",
    "def appendTexts(sentences, remove_stopwords):\n",
    "  texts = []\n",
    "  for s in sentences:\n",
    "    texts += preprocess_sentence(s, remove_stopwords),\n",
    "  return texts\n",
    "\n",
    "def preprocess_data(data, remove_stopwords=True):\n",
    "  start_time = time.time()\n",
    "  num_cores = mp.cpu_count()  # 컴퓨터의 코어 수를 구합니다\n",
    "\n",
    "  text_data_split = np.array_split(data, num_cores)  # 코어 수만큼 데이터를 배분하여 병렬적으로 처리할 수 있게 합니다\n",
    "  pool = Pool(num_cores)\n",
    "\n",
    "  processed_data = np.concatenate(pool.map(partial(appendTexts, remove_stopwords=remove_stopwords), text_data_split))  # 각자 작업한 데이터를 하나로 합쳐줍니다\n",
    "  pool.close()\n",
    "  pool.join()\n",
    "  print(time.time() - start_time, \" seconds\")\n",
    "  return processed_data\n",
    "\n",
    "clean_text = preprocess_data(data['text'])  # 클라우드 기준으로 3~4분 정도 소요 됩니다\n",
    "print(clean_text)\n",
    "\n",
    "clean_summary = preprocess_data(data['headlines'], remove_stopwords=False) # 클라우드 기준 1분정도 소요됩니다.\n",
    "print(clean_summary)"
   ]
  },
  {
   "cell_type": "code",
   "execution_count": 10,
   "metadata": {
    "colab": {
     "base_uri": "https://localhost:8080/"
    },
    "executionInfo": {
     "elapsed": 31,
     "status": "ok",
     "timestamp": 1629194774572,
     "user": {
      "displayName": "‍유상민[학생](이과대학 생물학과)",
      "photoUrl": "",
      "userId": "15014503589518623359"
     },
     "user_tz": -540
    },
    "id": "dVynPiHQ_wCd",
    "outputId": "3f93de32-50d9-4359-d6fa-31aebb0f5fac"
   },
   "outputs": [
    {
     "data": {
      "text/plain": [
       "headlines    0\n",
       "text         0\n",
       "dtype: int64"
      ]
     },
     "execution_count": 10,
     "metadata": {},
     "output_type": "execute_result"
    }
   ],
   "source": [
    "# 데이터를 데이터프레임이 재저장하고  빈(empty) 값을 가진 샘플은 Null 값으로 대체\n",
    "\n",
    "data['text'] = clean_text\n",
    "data['headlines'] = clean_summary\n",
    "\n",
    "# 빈 값을 Null 값으로 변환\n",
    "data.replace('', np.nan, inplace=True)\n",
    "\n",
    "#  .isnull().sum()을 사용해서 Null 값이 생겼는지 확인\n",
    "data.isnull().sum()"
   ]
  },
  {
   "cell_type": "markdown",
   "metadata": {
    "id": "kngIkloJAErd"
   },
   "source": [
    "### 훈련데이터와 테스트데이터 나누기"
   ]
  },
  {
   "cell_type": "code",
   "execution_count": 11,
   "metadata": {
    "colab": {
     "base_uri": "https://localhost:8080/",
     "height": 958
    },
    "executionInfo": {
     "elapsed": 2236,
     "status": "ok",
     "timestamp": 1629194776795,
     "user": {
      "displayName": "‍유상민[학생](이과대학 생물학과)",
      "photoUrl": "",
      "userId": "15014503589518623359"
     },
     "user_tz": -540
    },
    "id": "lq1utMCwAOp9",
    "outputId": "db78b5c0-c306-44fc-9601-71b18d98709f"
   },
   "outputs": [
    {
     "name": "stdout",
     "output_type": "stream",
     "text": [
      "텍스트의 최소 길이 : 1\n",
      "텍스트의 최대 길이 : 60\n",
      "텍스트의 평균 길이 : 35.09968483123221\n",
      "제목의 최소 길이 : 1\n",
      "제목의 최대 길이 : 16\n",
      "제목의 평균 길이 : 9.299532330215534\n"
     ]
    },
    {
     "data": {
      "image/png": "[encoded data removed]",
      "text/plain": [
       "<Figure size 432x288 with 2 Axes>"
      ]
     },
     "metadata": {
      "needs_background": "light"
     },
     "output_type": "display_data"
    },
    {
     "data": {
      "image/png": "[encoded data removed]",
      "text/plain": [
       "<Figure size 432x288 with 1 Axes>"
      ]
     },
     "metadata": {
      "needs_background": "light"
     },
     "output_type": "display_data"
    },
    {
     "data": {
      "image/png": "[encoded data removed]",
      "text/plain": [
       "<Figure size 432x288 with 1 Axes>"
      ]
     },
     "metadata": {
      "needs_background": "light"
     },
     "output_type": "display_data"
    }
   ],
   "source": [
    "# Text와 Summary의 최소, 최대, 평균 길이를 구하고 또한 길이 분포를 시각화\n",
    "# 길이 분포 출력\n",
    "\n",
    "import matplotlib.pyplot as plt\n",
    "\n",
    "text_len = [len(s.split()) for s in data['text']]\n",
    "summary_len = [len(s.split()) for s in data['headlines']]\n",
    "\n",
    "print('텍스트의 최소 길이 : {}'.format(np.min(text_len)))\n",
    "print('텍스트의 최대 길이 : {}'.format(np.max(text_len)))\n",
    "print('텍스트의 평균 길이 : {}'.format(np.mean(text_len)))\n",
    "print('제목의 최소 길이 : {}'.format(np.min(summary_len)))\n",
    "print('제목의 최대 길이 : {}'.format(np.max(summary_len)))\n",
    "print('제목의 평균 길이 : {}'.format(np.mean(summary_len)))\n",
    "\n",
    "plt.subplot(1,2,1)\n",
    "plt.boxplot(summary_len)\n",
    "plt.title('headlines')\n",
    "plt.subplot(1,2,2)\n",
    "plt.boxplot(text_len)\n",
    "plt.title('text')\n",
    "plt.tight_layout()\n",
    "plt.show()\n",
    "\n",
    "plt.title('headlines')\n",
    "plt.hist(summary_len, bins = 40)\n",
    "plt.xlabel('length of samples')\n",
    "plt.ylabel('number of samples')\n",
    "plt.show()\n",
    "\n",
    "plt.title('text')\n",
    "plt.hist(text_len, bins = 40)\n",
    "plt.xlabel('length of samples')\n",
    "plt.ylabel('number of samples')\n",
    "plt.show()"
   ]
  },
  {
   "cell_type": "code",
   "execution_count": 12,
   "metadata": {
    "colab": {
     "base_uri": "https://localhost:8080/",
     "height": 254
    },
    "executionInfo": {
     "elapsed": 29,
     "status": "ok",
     "timestamp": 1629194776796,
     "user": {
      "displayName": "‍유상민[학생](이과대학 생물학과)",
      "photoUrl": "",
      "userId": "15014503589518623359"
     },
     "user_tz": -540
    },
    "id": "24asvDzID6jg",
    "outputId": "1e6db5bc-aa2d-4703-fe22-3124032d78b6"
   },
   "outputs": [
    {
     "data": {
      "text/html": [
       "<div>\n",
       "<style scoped>\n",
       "    .dataframe tbody tr th:only-of-type {\n",
       "        vertical-align: middle;\n",
       "    }\n",
       "\n",
       "    .dataframe tbody tr th {\n",
       "        vertical-align: top;\n",
       "    }\n",
       "\n",
       "    .dataframe thead th {\n",
       "        text-align: right;\n",
       "    }\n",
       "</style>\n",
       "<table border=\"1\" class=\"dataframe\">\n",
       "  <thead>\n",
       "    <tr style=\"text-align: right;\">\n",
       "      <th></th>\n",
       "      <th>headlines</th>\n",
       "      <th>text</th>\n",
       "    </tr>\n",
       "  </thead>\n",
       "  <tbody>\n",
       "    <tr>\n",
       "      <th>52</th>\n",
       "      <td>headlines</td>\n",
       "      <td>text</td>\n",
       "    </tr>\n",
       "    <tr>\n",
       "      <th>12727</th>\n",
       "      <td>of visa holders in are indians us report</td>\n",
       "      <td>foreign nationals working us visas october ind...</td>\n",
       "    </tr>\n",
       "    <tr>\n",
       "      <th>19018</th>\n",
       "      <td>as an actor you are always lonely shahid kapoor</td>\n",
       "      <td>shahid kapoor said actor one always lonely add...</td>\n",
       "    </tr>\n",
       "    <tr>\n",
       "      <th>70272</th>\n",
       "      <td>how much will iphone cost in other countries</td>\n",
       "      <td>apple newly launched iphone edge edge display ...</td>\n",
       "    </tr>\n",
       "    <tr>\n",
       "      <th>93000</th>\n",
       "      <td>india sex ratio may dip to girls for boys in</td>\n",
       "      <td>government report predicted india sex ratio di...</td>\n",
       "    </tr>\n",
       "  </tbody>\n",
       "</table>\n",
       "</div>"
      ],
      "text/plain": [
       "                                             headlines  \\\n",
       "52                                           headlines   \n",
       "12727         of visa holders in are indians us report   \n",
       "19018  as an actor you are always lonely shahid kapoor   \n",
       "70272     how much will iphone cost in other countries   \n",
       "93000     india sex ratio may dip to girls for boys in   \n",
       "\n",
       "                                                    text  \n",
       "52                                                  text  \n",
       "12727  foreign nationals working us visas october ind...  \n",
       "19018  shahid kapoor said actor one always lonely add...  \n",
       "70272  apple newly launched iphone edge edge display ...  \n",
       "93000  government report predicted india sex ratio di...  "
      ]
     },
     "execution_count": 12,
     "metadata": {},
     "output_type": "execute_result"
    }
   ],
   "source": [
    "# text가 1 인 경우가 이상해서 확인\n",
    "\n",
    "data.loc[data['text'].map(lambda x: len(x.split())) < 20]"
   ]
  },
  {
   "cell_type": "code",
   "execution_count": 13,
   "metadata": {
    "colab": {
     "base_uri": "https://localhost:8080/",
     "height": 222
    },
    "executionInfo": {
     "elapsed": 26,
     "status": "ok",
     "timestamp": 1629194776798,
     "user": {
      "displayName": "‍유상민[학생](이과대학 생물학과)",
      "photoUrl": "",
      "userId": "15014503589518623359"
     },
     "user_tz": -540
    },
    "id": "Gu5tw-m1IU-q",
    "outputId": "ee7df6d1-c4a9-4667-9ff8-09aec29fd353"
   },
   "outputs": [
    {
     "data": {
      "text/html": [
       "<div>\n",
       "<style scoped>\n",
       "    .dataframe tbody tr th:only-of-type {\n",
       "        vertical-align: middle;\n",
       "    }\n",
       "\n",
       "    .dataframe tbody tr th {\n",
       "        vertical-align: top;\n",
       "    }\n",
       "\n",
       "    .dataframe thead th {\n",
       "        text-align: right;\n",
       "    }\n",
       "</style>\n",
       "<table border=\"1\" class=\"dataframe\">\n",
       "  <thead>\n",
       "    <tr style=\"text-align: right;\">\n",
       "      <th></th>\n",
       "      <th>headlines</th>\n",
       "      <th>text</th>\n",
       "    </tr>\n",
       "  </thead>\n",
       "  <tbody>\n",
       "    <tr>\n",
       "      <th>12727</th>\n",
       "      <td>of visa holders in are indians us report</td>\n",
       "      <td>foreign nationals working us visas october ind...</td>\n",
       "    </tr>\n",
       "    <tr>\n",
       "      <th>19018</th>\n",
       "      <td>as an actor you are always lonely shahid kapoor</td>\n",
       "      <td>shahid kapoor said actor one always lonely add...</td>\n",
       "    </tr>\n",
       "    <tr>\n",
       "      <th>70272</th>\n",
       "      <td>how much will iphone cost in other countries</td>\n",
       "      <td>apple newly launched iphone edge edge display ...</td>\n",
       "    </tr>\n",
       "    <tr>\n",
       "      <th>93000</th>\n",
       "      <td>india sex ratio may dip to girls for boys in</td>\n",
       "      <td>government report predicted india sex ratio di...</td>\n",
       "    </tr>\n",
       "  </tbody>\n",
       "</table>\n",
       "</div>"
      ],
      "text/plain": [
       "                                             headlines  \\\n",
       "12727         of visa holders in are indians us report   \n",
       "19018  as an actor you are always lonely shahid kapoor   \n",
       "70272     how much will iphone cost in other countries   \n",
       "93000     india sex ratio may dip to girls for boys in   \n",
       "\n",
       "                                                    text  \n",
       "12727  foreign nationals working us visas october ind...  \n",
       "19018  shahid kapoor said actor one always lonely add...  \n",
       "70272  apple newly launched iphone edge edge display ...  \n",
       "93000  government report predicted india sex ratio di...  "
      ]
     },
     "execution_count": 13,
     "metadata": {},
     "output_type": "execute_result"
    }
   ],
   "source": [
    "# 쓸모없는 데이터이므로 삭제하기\n",
    "\n",
    "data = data.drop([52])\n",
    "data.loc[data['text'].map(lambda x: len(x.split())) < 20]"
   ]
  },
  {
   "cell_type": "code",
   "execution_count": 14,
   "metadata": {
    "colab": {
     "base_uri": "https://localhost:8080/"
    },
    "executionInfo": {
     "elapsed": 917,
     "status": "ok",
     "timestamp": 1629194777693,
     "user": {
      "displayName": "‍유상민[학생](이과대학 생물학과)",
      "photoUrl": "",
      "userId": "15014503589518623359"
     },
     "user_tz": -540
    },
    "id": "bQ42Tp6DJMul",
    "outputId": "69c688c8-fba0-46a6-ae73-375d22846d60"
   },
   "outputs": [
    {
     "name": "stdout",
     "output_type": "stream",
     "text": [
      "전체 샘플 중 길이가 40 이하인 샘플의 비율: 0.9238707184904279\n",
      "전체 샘플 중 길이가 10 이하인 샘플의 비율: 0.8162954076393619\n"
     ]
    }
   ],
   "source": [
    "# Text와 Summary의 적절한 최대 길이를 임의로 정해주기\n",
    "\n",
    "text_max_len = 40\n",
    "summary_max_len = 10\n",
    "\n",
    "def below_threshold_len(max_len, nested_list):\n",
    "  cnt = 0\n",
    "  for s in nested_list:\n",
    "    if(len(s.split()) <= max_len):\n",
    "        cnt = cnt + 1\n",
    "  print('전체 샘플 중 길이가 %s 이하인 샘플의 비율: %s'%(max_len, (cnt / len(nested_list))))\n",
    "\n",
    "below_threshold_len(text_max_len, data['text'])\n",
    "below_threshold_len(summary_max_len,  data['headlines'])"
   ]
  },
  {
   "cell_type": "code",
   "execution_count": 15,
   "metadata": {
    "colab": {
     "base_uri": "https://localhost:8080/"
    },
    "executionInfo": {
     "elapsed": 48,
     "status": "ok",
     "timestamp": 1629194777694,
     "user": {
      "displayName": "‍유상민[학생](이과대학 생물학과)",
      "photoUrl": "",
      "userId": "15014503589518623359"
     },
     "user_tz": -540
    },
    "id": "8p3h0h30J2oX",
    "outputId": "f74cd5a6-2549-4c72-f1b1-423db836bfa0"
   },
   "outputs": [
    {
     "name": "stdout",
     "output_type": "stream",
     "text": [
      "전체 샘플수 : 74101\n"
     ]
    }
   ],
   "source": [
    "# 정해진 길이보다 길면 제외\n",
    "\n",
    "data = data[data['text'].apply(lambda x: len(x.split()) <= text_max_len)]\n",
    "data = data[data['headlines'].apply(lambda x: len(x.split()) <= summary_max_len)]\n",
    "print('전체 샘플수 :', (len(data)))"
   ]
  },
  {
   "cell_type": "markdown",
   "metadata": {
    "id": "gDf5XH_IJ76c"
   },
   "source": [
    "### 시작 토큰과 종료 토큰 추가하기\n",
    "\n",
    "시작 토큰은 sostoken, 종료 토큰은 eostoken\n",
    "\n",
    "decoder_input: 디코더의 입력에 해당하면서 시작 토큰이 맨 앞에 있는 문장 \n",
    "\n",
    "decoder_target: 디코더의 출력 또는 레이블에 해당되면서 종료 토큰이 맨 뒤에 붙는 문장\n",
    "\n",
    "두 개의 문장 모두 headlines 열로부터 생성"
   ]
  },
  {
   "cell_type": "code",
   "execution_count": 16,
   "metadata": {
    "colab": {
     "base_uri": "https://localhost:8080/",
     "height": 371
    },
    "executionInfo": {
     "elapsed": 43,
     "status": "ok",
     "timestamp": 1629194777697,
     "user": {
      "displayName": "‍유상민[학생](이과대학 생물학과)",
      "photoUrl": "",
      "userId": "15014503589518623359"
     },
     "user_tz": -540
    },
    "id": "Hmu5g7EMKacn",
    "outputId": "2bda32c3-c91b-44fa-f9a2-ecb259a83c47"
   },
   "outputs": [
    {
     "data": {
      "text/html": [
       "<div>\n",
       "<style scoped>\n",
       "    .dataframe tbody tr th:only-of-type {\n",
       "        vertical-align: middle;\n",
       "    }\n",
       "\n",
       "    .dataframe tbody tr th {\n",
       "        vertical-align: top;\n",
       "    }\n",
       "\n",
       "    .dataframe thead th {\n",
       "        text-align: right;\n",
       "    }\n",
       "</style>\n",
       "<table border=\"1\" class=\"dataframe\">\n",
       "  <thead>\n",
       "    <tr style=\"text-align: right;\">\n",
       "      <th></th>\n",
       "      <th>headlines</th>\n",
       "      <th>text</th>\n",
       "      <th>decoder_input</th>\n",
       "      <th>decoder_target</th>\n",
       "    </tr>\n",
       "  </thead>\n",
       "  <tbody>\n",
       "    <tr>\n",
       "      <th>2</th>\n",
       "      <td>new zealand end rohit sharma led india match w...</td>\n",
       "      <td>new zealand defeated india wickets fourth odi ...</td>\n",
       "      <td>sostoken new zealand end rohit sharma led indi...</td>\n",
       "      <td>new zealand end rohit sharma led india match w...</td>\n",
       "    </tr>\n",
       "    <tr>\n",
       "      <th>3</th>\n",
       "      <td>aegon life iterm insurance plan helps customer...</td>\n",
       "      <td>aegon life iterm insurance plan customers enjo...</td>\n",
       "      <td>sostoken aegon life iterm insurance plan helps...</td>\n",
       "      <td>aegon life iterm insurance plan helps customer...</td>\n",
       "    </tr>\n",
       "    <tr>\n",
       "      <th>5</th>\n",
       "      <td>rahat fateh ali khan denies getting notice for...</td>\n",
       "      <td>pakistani singer rahat fateh ali khan denied r...</td>\n",
       "      <td>sostoken rahat fateh ali khan denies getting n...</td>\n",
       "      <td>rahat fateh ali khan denies getting notice for...</td>\n",
       "    </tr>\n",
       "    <tr>\n",
       "      <th>9</th>\n",
       "      <td>cong wins ramgarh bypoll in rajasthan takes to...</td>\n",
       "      <td>congress candidate shafia zubair ramgarh assem...</td>\n",
       "      <td>sostoken cong wins ramgarh bypoll in rajasthan...</td>\n",
       "      <td>cong wins ramgarh bypoll in rajasthan takes to...</td>\n",
       "    </tr>\n",
       "    <tr>\n",
       "      <th>10</th>\n",
       "      <td>up cousins fed human excreta for friendship wi...</td>\n",
       "      <td>two minor cousins uttar pradesh gorakhpur alle...</td>\n",
       "      <td>sostoken up cousins fed human excreta for frie...</td>\n",
       "      <td>up cousins fed human excreta for friendship wi...</td>\n",
       "    </tr>\n",
       "  </tbody>\n",
       "</table>\n",
       "</div>"
      ],
      "text/plain": [
       "                                            headlines  \\\n",
       "2   new zealand end rohit sharma led india match w...   \n",
       "3   aegon life iterm insurance plan helps customer...   \n",
       "5   rahat fateh ali khan denies getting notice for...   \n",
       "9   cong wins ramgarh bypoll in rajasthan takes to...   \n",
       "10  up cousins fed human excreta for friendship wi...   \n",
       "\n",
       "                                                 text  \\\n",
       "2   new zealand defeated india wickets fourth odi ...   \n",
       "3   aegon life iterm insurance plan customers enjo...   \n",
       "5   pakistani singer rahat fateh ali khan denied r...   \n",
       "9   congress candidate shafia zubair ramgarh assem...   \n",
       "10  two minor cousins uttar pradesh gorakhpur alle...   \n",
       "\n",
       "                                        decoder_input  \\\n",
       "2   sostoken new zealand end rohit sharma led indi...   \n",
       "3   sostoken aegon life iterm insurance plan helps...   \n",
       "5   sostoken rahat fateh ali khan denies getting n...   \n",
       "9   sostoken cong wins ramgarh bypoll in rajasthan...   \n",
       "10  sostoken up cousins fed human excreta for frie...   \n",
       "\n",
       "                                       decoder_target  \n",
       "2   new zealand end rohit sharma led india match w...  \n",
       "3   aegon life iterm insurance plan helps customer...  \n",
       "5   rahat fateh ali khan denies getting notice for...  \n",
       "9   cong wins ramgarh bypoll in rajasthan takes to...  \n",
       "10  up cousins fed human excreta for friendship wi...  "
      ]
     },
     "execution_count": 16,
     "metadata": {},
     "output_type": "execute_result"
    }
   ],
   "source": [
    "# 제목 데이터에는 시작 토큰과 종료 토큰을 추가한다.\n",
    "data['decoder_input'] = data['headlines'].apply(lambda x : 'sostoken '+ x)\n",
    "data['decoder_target'] = data['headlines'].apply(lambda x : x + ' eostoken')\n",
    "data.head()"
   ]
  },
  {
   "cell_type": "code",
   "execution_count": 17,
   "metadata": {
    "colab": {
     "base_uri": "https://localhost:8080/"
    },
    "executionInfo": {
     "elapsed": 41,
     "status": "ok",
     "timestamp": 1629194777698,
     "user": {
      "displayName": "‍유상민[학생](이과대학 생물학과)",
      "photoUrl": "",
      "userId": "15014503589518623359"
     },
     "user_tz": -540
    },
    "id": "WX6RE74oKke3",
    "outputId": "3c93e3e0-cd97-4532-ac05-268159874b26"
   },
   "outputs": [
    {
     "name": "stdout",
     "output_type": "stream",
     "text": [
      "done\n"
     ]
    }
   ],
   "source": [
    "# 인코더의 입력, 디코더의 입력과 레이블을 각각 다시 Numpy 타입으로 저장\n",
    "\n",
    "encoder_input = np.array(data['text']) # 인코더의 입력\n",
    "decoder_input = np.array(data['decoder_input']) # 디코더의 입력\n",
    "decoder_target = np.array(data['decoder_target']) # 디코더의 레이블\n",
    "\n",
    "print('done')"
   ]
  },
  {
   "cell_type": "code",
   "execution_count": 18,
   "metadata": {
    "colab": {
     "base_uri": "https://localhost:8080/"
    },
    "executionInfo": {
     "elapsed": 37,
     "status": "ok",
     "timestamp": 1629194777699,
     "user": {
      "displayName": "‍유상민[학생](이과대학 생물학과)",
      "photoUrl": "",
      "userId": "15014503589518623359"
     },
     "user_tz": -540
    },
    "id": "IENknsJvK1iF",
    "outputId": "80611a2f-10fa-407c-a42f-17ec86318a0c"
   },
   "outputs": [
    {
     "name": "stdout",
     "output_type": "stream",
     "text": [
      "done\n"
     ]
    }
   ],
   "source": [
    "# 순서가 섞인 숫자 배열 만들기\n",
    "\n",
    "indices = np.arange(encoder_input.shape[0])\n",
    "np.random.shuffle(indices)\n",
    "\n",
    "# 정수 시퀀스를 이용해 다시 데이터의 샘플 순서를 정의\n",
    "\n",
    "encoder_input = encoder_input[indices]\n",
    "decoder_input = decoder_input[indices]\n",
    "decoder_target = decoder_target[indices]\n",
    "\n",
    "print('done')"
   ]
  },
  {
   "cell_type": "code",
   "execution_count": 19,
   "metadata": {
    "colab": {
     "base_uri": "https://localhost:8080/"
    },
    "executionInfo": {
     "elapsed": 34,
     "status": "ok",
     "timestamp": 1629194777701,
     "user": {
      "displayName": "‍유상민[학생](이과대학 생물학과)",
      "photoUrl": "",
      "userId": "15014503589518623359"
     },
     "user_tz": -540
    },
    "id": "SyMR_GiLLA4V",
    "outputId": "e0298da1-df48-4712-d548-a26e073586e1"
   },
   "outputs": [
    {
     "name": "stdout",
     "output_type": "stream",
     "text": [
      "테스트 데이터의 수 : 14820\n"
     ]
    }
   ],
   "source": [
    "# 이제 섞인 데이터를 8:2의 비율로 훈련 데이터와 테스트 데이터로 분리\n",
    "\n",
    "n_of_val = int(len(encoder_input)*0.2)\n",
    "print('테스트 데이터의 수 :', n_of_val)"
   ]
  },
  {
   "cell_type": "code",
   "execution_count": 20,
   "metadata": {
    "colab": {
     "base_uri": "https://localhost:8080/"
    },
    "executionInfo": {
     "elapsed": 32,
     "status": "ok",
     "timestamp": 1629194777705,
     "user": {
      "displayName": "‍유상민[학생](이과대학 생물학과)",
      "photoUrl": "",
      "userId": "15014503589518623359"
     },
     "user_tz": -540
    },
    "id": "XVWUsuAHLFZq",
    "outputId": "a3c10b5e-9a60-4dd9-e796-21bd99590637"
   },
   "outputs": [
    {
     "name": "stdout",
     "output_type": "stream",
     "text": [
      "훈련 데이터의 개수 : 59281\n",
      "훈련 레이블의 개수 : 59281\n",
      "테스트 데이터의 개수 : 14820\n",
      "테스트 레이블의 개수 : 14820\n"
     ]
    }
   ],
   "source": [
    "# 테스트 셋 나누기\n",
    "\n",
    "encoder_input_train = encoder_input[:-n_of_val]\n",
    "decoder_input_train = decoder_input[:-n_of_val]\n",
    "decoder_target_train = decoder_target[:-n_of_val]\n",
    "\n",
    "encoder_input_test = encoder_input[-n_of_val:]\n",
    "decoder_input_test = decoder_input[-n_of_val:]\n",
    "decoder_target_test = decoder_target[-n_of_val:]\n",
    "\n",
    "print('훈련 데이터의 개수 :', len(encoder_input_train))\n",
    "print('훈련 레이블의 개수 :', len(decoder_input_train))\n",
    "print('테스트 데이터의 개수 :', len(encoder_input_test))\n",
    "print('테스트 레이블의 개수 :', len(decoder_input_test))"
   ]
  },
  {
   "cell_type": "markdown",
   "metadata": {
    "id": "dscRdTH3LdWG"
   },
   "source": [
    "### 정수 인코딩\n"
   ]
  },
  {
   "cell_type": "code",
   "execution_count": 21,
   "metadata": {
    "colab": {
     "base_uri": "https://localhost:8080/"
    },
    "executionInfo": {
     "elapsed": 2192,
     "status": "ok",
     "timestamp": 1629194779872,
     "user": {
      "displayName": "‍유상민[학생](이과대학 생물학과)",
      "photoUrl": "",
      "userId": "15014503589518623359"
     },
     "user_tz": -540
    },
    "id": "ALgJW8QbLjNj",
    "outputId": "7798e727-b4be-4319-d782-74e9533e97a4"
   },
   "outputs": [
    {
     "name": "stdout",
     "output_type": "stream",
     "text": [
      "done\n"
     ]
    }
   ],
   "source": [
    "# Keras의 토크나이저를 사용해서 입력된 훈련 데이터로부터 단어 집합 만들기\n",
    "\n",
    "src_tokenizer = Tokenizer() # 토크나이저 정의\n",
    "src_tokenizer.fit_on_texts(encoder_input_train) # 입력된 데이터로부터 단어 집합 생성\n",
    "\n",
    "print('done')"
   ]
  },
  {
   "cell_type": "code",
   "execution_count": 22,
   "metadata": {
    "colab": {
     "base_uri": "https://localhost:8080/"
    },
    "executionInfo": {
     "elapsed": 14,
     "status": "ok",
     "timestamp": 1629194780352,
     "user": {
      "displayName": "‍유상민[학생](이과대학 생물학과)",
      "photoUrl": "",
      "userId": "15014503589518623359"
     },
     "user_tz": -540
    },
    "id": "fwVs9FeoLmhb",
    "outputId": "d06e9032-a313-4c6a-800e-766982861451"
   },
   "outputs": [
    {
     "name": "stdout",
     "output_type": "stream",
     "text": [
      "단어 집합(vocabulary)의 크기 : 61530\n",
      "등장 빈도가 7번 이하인 희귀 단어의 수: 43529\n",
      "단어 집합에서 희귀 단어를 제외시킬 경우의 단어 집합의 크기 18001\n",
      "단어 집합에서 희귀 단어의 비율: 70.74435234844792\n",
      "전체 등장 빈도에서 희귀 단어 등장 빈도 비율: 4.642164363102854\n"
     ]
    }
   ],
   "source": [
    "# src_tokenizer.word_counts.items()에 저장되어 있는 단어와 각 단어의 등장 빈도수를 이용해 통계적인 정보 획득\n",
    "\n",
    "threshold = 8\n",
    "total_cnt = len(src_tokenizer.word_index) # 단어의 수\n",
    "rare_cnt = 0 # 등장 빈도수가 threshold보다 작은 단어의 개수를 카운트\n",
    "total_freq = 0 # 훈련 데이터의 전체 단어 빈도수 총 합\n",
    "rare_freq = 0 # 등장 빈도수가 threshold보다 작은 단어의 등장 빈도수의 총 합\n",
    "\n",
    "# 단어와 빈도수의 쌍(pair)을 key와 value로 받는다.\n",
    "for key, value in src_tokenizer.word_counts.items():\n",
    "    total_freq = total_freq + value\n",
    "\n",
    "    # 단어의 등장 빈도수가 threshold보다 작으면\n",
    "    if(value < threshold):\n",
    "        rare_cnt = rare_cnt + 1\n",
    "        rare_freq = rare_freq + value\n",
    "\n",
    "print('단어 집합(vocabulary)의 크기 :', total_cnt)\n",
    "print('등장 빈도가 %s번 이하인 희귀 단어의 수: %s'%(threshold - 1, rare_cnt))\n",
    "print('단어 집합에서 희귀 단어를 제외시킬 경우의 단어 집합의 크기 %s'%(total_cnt - rare_cnt))\n",
    "print(\"단어 집합에서 희귀 단어의 비율:\", (rare_cnt / total_cnt)*100)\n",
    "print(\"전체 등장 빈도에서 희귀 단어 등장 빈도 비율:\", (rare_freq / total_freq)*100)"
   ]
  },
  {
   "cell_type": "code",
   "execution_count": 23,
   "metadata": {
    "colab": {
     "base_uri": "https://localhost:8080/"
    },
    "executionInfo": {
     "elapsed": 2725,
     "status": "ok",
     "timestamp": 1629194783067,
     "user": {
      "displayName": "‍유상민[학생](이과대학 생물학과)",
      "photoUrl": "",
      "userId": "15014503589518623359"
     },
     "user_tz": -540
    },
    "id": "argZGOwNMD74",
    "outputId": "2f8bc216-c595-406f-f98d-d675e5a2cac8"
   },
   "outputs": [
    {
     "name": "stdout",
     "output_type": "stream",
     "text": [
      "done\n"
     ]
    }
   ],
   "source": [
    "# 단어 집합의 크기 제한\n",
    "\n",
    "src_vocab = 20000\n",
    "src_tokenizer = Tokenizer(num_words=src_vocab) # 단어 집합의 크기를 20,000으로 제한\n",
    "src_tokenizer.fit_on_texts(encoder_input_train) # 단어 집합 재생성.\n",
    "\n",
    "print('done')"
   ]
  },
  {
   "cell_type": "code",
   "execution_count": 24,
   "metadata": {
    "colab": {
     "base_uri": "https://localhost:8080/"
    },
    "executionInfo": {
     "elapsed": 3341,
     "status": "ok",
     "timestamp": 1629194786401,
     "user": {
      "displayName": "‍유상민[학생](이과대학 생물학과)",
      "photoUrl": "",
      "userId": "15014503589518623359"
     },
     "user_tz": -540
    },
    "id": "CbgAl3UYMPTo",
    "outputId": "bdb9f41d-8504-42b9-d96f-3092d89f532c"
   },
   "outputs": [
    {
     "name": "stdout",
     "output_type": "stream",
     "text": [
      "[[885, 13, 944, 4630, 166, 1, 7516, 2052, 714, 5274, 3032, 10624, 40, 1501, 3230, 389, 166, 6248, 13151, 544, 1843, 18, 581, 4630, 4, 5664, 187, 129, 87, 3074, 7119, 316, 11], [8, 94, 954, 6862, 4178, 1781, 1863, 192, 20, 1647, 712, 3161, 3883, 1661, 3203, 1725, 1980, 4231, 5401, 1202, 496, 7962, 2039, 9522, 902, 9522, 116, 223, 14338, 15095, 10034, 2482, 582, 116, 1725, 1980, 1], [184, 21, 81, 9, 1437, 748, 1708, 4919, 603, 748, 1536, 302, 117, 2164, 5536, 16, 4810, 3634, 748, 12132, 81, 10933, 5536, 11, 117, 9, 81, 21, 2387, 603, 3851, 108, 9783, 200, 16, 1099]]\n"
     ]
    }
   ],
   "source": [
    "# 텍스트 시퀀스를 정수 시퀀스로 변환\n",
    "encoder_input_train = src_tokenizer.texts_to_sequences(encoder_input_train) \n",
    "encoder_input_test = src_tokenizer.texts_to_sequences(encoder_input_test)\n",
    "\n",
    "# 잘 진행되었는지 샘플 출력\n",
    "print(encoder_input_train[:3])"
   ]
  },
  {
   "cell_type": "code",
   "execution_count": 25,
   "metadata": {
    "colab": {
     "base_uri": "https://localhost:8080/"
    },
    "executionInfo": {
     "elapsed": 1321,
     "status": "ok",
     "timestamp": 1629194787713,
     "user": {
      "displayName": "‍유상민[학생](이과대학 생물학과)",
      "photoUrl": "",
      "userId": "15014503589518623359"
     },
     "user_tz": -540
    },
    "id": "_C93OoNBMUR1",
    "outputId": "52323234-9857-4d03-cf90-01e132cfed6d"
   },
   "outputs": [
    {
     "name": "stdout",
     "output_type": "stream",
     "text": [
      "done\n"
     ]
    }
   ],
   "source": [
    "# headlines 데이커에도 동일학 작업을 수행\n",
    "\n",
    "tar_tokenizer = Tokenizer()\n",
    "tar_tokenizer.fit_on_texts(decoder_input_train)\n",
    "\n",
    "print('done')"
   ]
  },
  {
   "cell_type": "code",
   "execution_count": 26,
   "metadata": {
    "colab": {
     "base_uri": "https://localhost:8080/"
    },
    "executionInfo": {
     "elapsed": 16,
     "status": "ok",
     "timestamp": 1629194787715,
     "user": {
      "displayName": "‍유상민[학생](이과대학 생물학과)",
      "photoUrl": "",
      "userId": "15014503589518623359"
     },
     "user_tz": -540
    },
    "id": "ruQrc9mlMfiP",
    "outputId": "e09fe230-291e-4538-f4a6-18d49f2caf60"
   },
   "outputs": [
    {
     "name": "stdout",
     "output_type": "stream",
     "text": [
      "단어 집합(vocabulary)의 크기 : 27230\n",
      "등장 빈도가 5번 이하인 희귀 단어의 수: 18152\n",
      "단어 집합에서 희귀 단어를 제외시킬 경우의 단어 집합의 크기 9078\n",
      "단어 집합에서 희귀 단어의 비율: 66.66177010650019\n",
      "전체 등장 빈도에서 희귀 단어 등장 빈도 비율: 5.961924277606443\n"
     ]
    }
   ],
   "source": [
    "threshold = 6\n",
    "total_cnt = len(tar_tokenizer.word_index) # 단어의 수\n",
    "rare_cnt = 0 # 등장 빈도수가 threshold보다 작은 단어의 개수를 카운트\n",
    "total_freq = 0 # 훈련 데이터의 전체 단어 빈도수 총 합\n",
    "rare_freq = 0 # 등장 빈도수가 threshold보다 작은 단어의 등장 빈도수의 총 합\n",
    "\n",
    "# 단어와 빈도수의 쌍(pair)을 key와 value로 받는다.\n",
    "for key, value in tar_tokenizer.word_counts.items():\n",
    "    total_freq = total_freq + value\n",
    "\n",
    "    # 단어의 등장 빈도수가 threshold보다 작으면\n",
    "    if(value < threshold):\n",
    "        rare_cnt = rare_cnt + 1\n",
    "        rare_freq = rare_freq + value\n",
    "\n",
    "print('단어 집합(vocabulary)의 크기 :', total_cnt)\n",
    "print('등장 빈도가 %s번 이하인 희귀 단어의 수: %s'%(threshold - 1, rare_cnt))\n",
    "print('단어 집합에서 희귀 단어를 제외시킬 경우의 단어 집합의 크기 %s'%(total_cnt - rare_cnt))\n",
    "print(\"단어 집합에서 희귀 단어의 비율:\", (rare_cnt / total_cnt)*100)\n",
    "print(\"전체 등장 빈도에서 희귀 단어 등장 빈도 비율:\", (rare_freq / total_freq)*100)"
   ]
  },
  {
   "cell_type": "code",
   "execution_count": 27,
   "metadata": {
    "colab": {
     "base_uri": "https://localhost:8080/"
    },
    "executionInfo": {
     "elapsed": 5670,
     "status": "ok",
     "timestamp": 1629194793378,
     "user": {
      "displayName": "‍유상민[학생](이과대학 생물학과)",
      "photoUrl": "",
      "userId": "15014503589518623359"
     },
     "user_tz": -540
    },
    "id": "yHbv3n3dNaOv",
    "outputId": "632d0b0e-af80-487e-fe3d-80069821737c"
   },
   "outputs": [
    {
     "name": "stdout",
     "output_type": "stream",
     "text": [
      "input\n",
      "input  [[1, 2879, 2280, 381, 4495, 2789, 1704, 4, 4676, 1478], [1, 4312, 1526, 3570, 2527, 30, 927], [1, 71, 1434, 670, 3820, 3438, 396, 3, 670, 757], [1, 3976, 2281, 1479, 1110, 5404, 4910, 4, 181], [1, 7526, 719, 3, 24, 79, 928, 1414]]\n",
      "target\n",
      "decoder  [[2879, 2280, 381, 4495, 2789, 1704, 4, 4676, 1478, 2], [4312, 1526, 3570, 2527, 30, 927, 2], [71, 1434, 670, 3820, 3438, 396, 3, 670, 757, 2], [3976, 2281, 1479, 1110, 5404, 4910, 4, 181, 2], [7526, 719, 3, 24, 79, 928, 1414, 2]]\n"
     ]
    }
   ],
   "source": [
    "tar_vocab = 10000\n",
    "tar_tokenizer = Tokenizer(num_words=tar_vocab) \n",
    "tar_tokenizer.fit_on_texts(decoder_input_train)\n",
    "tar_tokenizer.fit_on_texts(decoder_target_train)\n",
    "\n",
    "# 텍스트 시퀀스를 정수 시퀀스로 변환\n",
    "decoder_input_train = tar_tokenizer.texts_to_sequences(decoder_input_train) \n",
    "decoder_target_train = tar_tokenizer.texts_to_sequences(decoder_target_train)\n",
    "decoder_input_test = tar_tokenizer.texts_to_sequences(decoder_input_test)\n",
    "decoder_target_test = tar_tokenizer.texts_to_sequences(decoder_target_test)\n",
    "\n",
    "# 잘 변환되었는지 확인\n",
    "print('input')\n",
    "print('input ',decoder_input_train[:5])\n",
    "print('target')\n",
    "print('decoder ',decoder_target_train[:5])"
   ]
  },
  {
   "cell_type": "code",
   "execution_count": 28,
   "metadata": {
    "colab": {
     "base_uri": "https://localhost:8080/"
    },
    "executionInfo": {
     "elapsed": 11,
     "status": "ok",
     "timestamp": 1629194793780,
     "user": {
      "displayName": "‍유상민[학생](이과대학 생물학과)",
      "photoUrl": "",
      "userId": "15014503589518623359"
     },
     "user_tz": -540
    },
    "id": "o7vV9O_9Nj3p",
    "outputId": "8384139b-956e-47cf-9688-af986d310581"
   },
   "outputs": [
    {
     "name": "stdout",
     "output_type": "stream",
     "text": [
      "삭제할 훈련 데이터의 개수 : 0\n",
      "삭제할 테스트 데이터의 개수 : 0\n",
      "훈련 데이터의 개수 : 59281\n",
      "훈련 레이블의 개수 : 59281\n",
      "테스트 데이터의 개수 : 14820\n",
      "테스트 레이블의 개수 : 14820\n"
     ]
    },
    {
     "name": "stderr",
     "output_type": "stream",
     "text": [
      "/opt/conda/lib/python3.7/site-packages/numpy/core/_asarray.py:83: VisibleDeprecationWarning: Creating an ndarray from ragged nested sequences (which is a list-or-tuple of lists-or-tuples-or ndarrays with different lengths or shapes) is deprecated. If you meant to do this, you must specify 'dtype=object' when creating the ndarray\n",
      "  return array(a, dtype, copy=False, order=order)\n"
     ]
    }
   ],
   "source": [
    "# 길이가 1인 빈 샘플 제거\n",
    "\n",
    "drop_train = [index for index, sentence in enumerate(decoder_input_train) if len(sentence) == 1]\n",
    "drop_test = [index for index, sentence in enumerate(decoder_input_test) if len(sentence) == 1]\n",
    "\n",
    "print('삭제할 훈련 데이터의 개수 :', len(drop_train))\n",
    "print('삭제할 테스트 데이터의 개수 :', len(drop_test))\n",
    "\n",
    "encoder_input_train = np.delete(encoder_input_train, drop_train, axis=0)\n",
    "decoder_input_train = np.delete(decoder_input_train, drop_train, axis=0)\n",
    "decoder_target_train = np.delete(decoder_target_train, drop_train, axis=0)\n",
    "\n",
    "encoder_input_test = np.delete(encoder_input_test, drop_test, axis=0)\n",
    "decoder_input_test = np.delete(decoder_input_test, drop_test, axis=0)\n",
    "decoder_target_test = np.delete(decoder_target_test, drop_test, axis=0)\n",
    "\n",
    "print('훈련 데이터의 개수 :', len(encoder_input_train))\n",
    "print('훈련 레이블의 개수 :', len(decoder_input_train))\n",
    "print('테스트 데이터의 개수 :', len(encoder_input_test))\n",
    "print('테스트 레이블의 개수 :', len(decoder_input_test))"
   ]
  },
  {
   "cell_type": "code",
   "execution_count": 29,
   "metadata": {
    "colab": {
     "base_uri": "https://localhost:8080/"
    },
    "executionInfo": {
     "elapsed": 2111,
     "status": "ok",
     "timestamp": 1629194795884,
     "user": {
      "displayName": "‍유상민[학생](이과대학 생물학과)",
      "photoUrl": "",
      "userId": "15014503589518623359"
     },
     "user_tz": -540
    },
    "id": "HI3qkTRvN0ER",
    "outputId": "d5b6be0d-06fb-4992-c435-202534e497a0"
   },
   "outputs": [
    {
     "name": "stdout",
     "output_type": "stream",
     "text": [
      "done\n"
     ]
    }
   ],
   "source": [
    "# 최대 길이보다 짧은 데이터들은 뒤의 공간에 숫자 0을 넣어 최대 길이로 길이 통일\n",
    "\n",
    "encoder_input_train = pad_sequences(encoder_input_train, maxlen=text_max_len, padding='post')\n",
    "encoder_input_test = pad_sequences(encoder_input_test, maxlen=text_max_len, padding='post')\n",
    "decoder_input_train = pad_sequences(decoder_input_train, maxlen=summary_max_len, padding='post')\n",
    "decoder_target_train = pad_sequences(decoder_target_train, maxlen=summary_max_len, padding='post')\n",
    "decoder_input_test = pad_sequences(decoder_input_test, maxlen=summary_max_len, padding='post')\n",
    "decoder_target_test = pad_sequences(decoder_target_test, maxlen=summary_max_len, padding='post')\n",
    "\n",
    "print('done')"
   ]
  },
  {
   "cell_type": "markdown",
   "metadata": {
    "id": "3fIyqQgD3R6k"
   },
   "source": [
    "### 어텐션 메커니즘 사용하기\n",
    "\n",
    "일반적인 seq2seq보다는 어텐션 메커니즘을 사용한 seq2seq를 사용하는 것이 더 나은 성능을 얻을 수 있어요. 실습 내용을 참고하여 어텐션 메커니즘을 사용한 seq2seq를 설계해 보세요."
   ]
  },
  {
   "cell_type": "code",
   "execution_count": 30,
   "metadata": {
    "colab": {
     "base_uri": "https://localhost:8080/"
    },
    "executionInfo": {
     "elapsed": 434,
     "status": "ok",
     "timestamp": 1629195019876,
     "user": {
      "displayName": "‍유상민[학생](이과대학 생물학과)",
      "photoUrl": "",
      "userId": "15014503589518623359"
     },
     "user_tz": -540
    },
    "id": "46-pu0eViK1b",
    "outputId": "0c629f11-6e5a-4645-fecb-77bd12c00209"
   },
   "outputs": [
    {
     "name": "stdout",
     "output_type": "stream",
     "text": [
      "done\n"
     ]
    }
   ],
   "source": [
    "# 깃허브에 공개돼 있는 어텐션 함수를 다운로드\n",
    "\n",
    "urllib.request.urlretrieve(\"https://raw.githubusercontent.com/thushv89/attention_keras/master/src/layers/attention.py\", filename=\"attention.py\")\n",
    "from attention import AttentionLayer\n",
    "\n",
    "print('done')"
   ]
  },
  {
   "cell_type": "code",
   "execution_count": 31,
   "metadata": {
    "colab": {
     "base_uri": "https://localhost:8080/"
    },
    "executionInfo": {
     "elapsed": 6346,
     "status": "ok",
     "timestamp": 1629194802223,
     "user": {
      "displayName": "‍유상민[학생](이과대학 생물학과)",
      "photoUrl": "",
      "userId": "15014503589518623359"
     },
     "user_tz": -540
    },
    "id": "-tHJc2iIhjh2",
    "outputId": "b6192f48-839f-4e47-cc21-db6e84928ae8"
   },
   "outputs": [
    {
     "name": "stdout",
     "output_type": "stream",
     "text": [
      "WARNING:tensorflow:Layer lstm will not use cuDNN kernel since it doesn't meet the cuDNN kernel criteria. It will use generic GPU kernel as fallback when running on GPU\n",
      "WARNING:tensorflow:Layer lstm_1 will not use cuDNN kernel since it doesn't meet the cuDNN kernel criteria. It will use generic GPU kernel as fallback when running on GPU\n",
      "WARNING:tensorflow:Layer lstm_2 will not use cuDNN kernel since it doesn't meet the cuDNN kernel criteria. It will use generic GPU kernel as fallback when running on GPU\n",
      "done\n"
     ]
    }
   ],
   "source": [
    "# 함수형 API를 이용해서 인코더를 설계\n",
    "\n",
    "from tensorflow.keras.layers import Input, LSTM, Embedding, Dense, Concatenate\n",
    "from tensorflow.keras.models import Model\n",
    "from tensorflow.keras.callbacks import EarlyStopping, ModelCheckpoint\n",
    "\n",
    "\n",
    "# 인코더 설계 시작\n",
    "embedding_dim = 128\n",
    "hidden_size = 256\n",
    "\n",
    "# 인코더\n",
    "encoder_inputs = Input(shape=(text_max_len,))\n",
    "\n",
    "# 인코더의 임베딩 층\n",
    "enc_emb = Embedding(src_vocab, embedding_dim)(encoder_inputs)\n",
    "\n",
    "# 인코더의 LSTM 1\n",
    "encoder_lstm1 = LSTM(hidden_size, return_sequences=True, return_state=True ,dropout = 0.4, recurrent_dropout = 0.4)\n",
    "encoder_output1, state_h1, state_c1 = encoder_lstm1(enc_emb)\n",
    "\n",
    "# 인코더의 LSTM 2\n",
    "encoder_lstm2 = LSTM(hidden_size, return_sequences=True, return_state=True, dropout=0.4, recurrent_dropout=0.4)\n",
    "encoder_output2, state_h2, state_c2 = encoder_lstm2(encoder_output1)\n",
    "\n",
    "# 인코더의 LSTM 3\n",
    "encoder_lstm3 = LSTM(hidden_size, return_state=True, return_sequences=True, dropout=0.4, recurrent_dropout=0.4)\n",
    "encoder_outputs, state_h, state_c= encoder_lstm3(encoder_output2)\n",
    "\n",
    "print('done')"
   ]
  },
  {
   "cell_type": "code",
   "execution_count": 32,
   "metadata": {
    "colab": {
     "base_uri": "https://localhost:8080/"
    },
    "executionInfo": {
     "elapsed": 521,
     "status": "ok",
     "timestamp": 1629195037171,
     "user": {
      "displayName": "‍유상민[학생](이과대학 생물학과)",
      "photoUrl": "",
      "userId": "15014503589518623359"
     },
     "user_tz": -540
    },
    "id": "g8XfNnS_h8Si",
    "outputId": "3677da67-d4f2-49f1-e70f-c862e8a094e9"
   },
   "outputs": [
    {
     "name": "stdout",
     "output_type": "stream",
     "text": [
      "WARNING:tensorflow:Layer lstm_3 will not use cuDNN kernel since it doesn't meet the cuDNN kernel criteria. It will use generic GPU kernel as fallback when running on GPU\n",
      "done\n"
     ]
    }
   ],
   "source": [
    "# 디코더 설계\n",
    "decoder_inputs = Input(shape=(None,))\n",
    "\n",
    "# 디코더의 임베딩 층\n",
    "dec_emb_layer = Embedding(tar_vocab, embedding_dim)\n",
    "dec_emb = dec_emb_layer(decoder_inputs)\n",
    "\n",
    "# 디코더의 LSTM\n",
    "decoder_lstm = LSTM(hidden_size, return_sequences=True, return_state=True, dropout=0.4, recurrent_dropout=0.2)\n",
    "decoder_outputs, _, _ = decoder_lstm(dec_emb, initial_state=[state_h, state_c])\n",
    "\n",
    "print('done')"
   ]
  },
  {
   "cell_type": "markdown",
   "metadata": {
    "id": "N-KxNjFpmF5g"
   },
   "source": [
    "디코더의 임베딩 층과 LSTM을 설계하는 것은 인코더와 거의 동일gk지만 LSTM의 입력을 정의할 때, initial_state의 인자값으로 인코더의 hidden state와 cell state의 값을 넣어줘야 함\n",
    "\n",
    "```python\n",
    "# 기본 버전 디코더의 출력층\n",
    "decoder_softmax_layer = Dense(tar_vocab, activation='softmax')\n",
    "decoder_softmax_outputs = decoder_softmax_layer(decoder_outputs) \n",
    "\n",
    "# 모델 정의\n",
    "model = Model([encoder_inputs, decoder_inputs], decoder_softmax_outputs)\n",
    "model.summary()\n",
    "```\n",
    "\n",
    "이번에는 이미 구현된 어텐션 함수를 이용"
   ]
  },
  {
   "cell_type": "code",
   "execution_count": 33,
   "metadata": {
    "colab": {
     "base_uri": "https://localhost:8080/"
    },
    "executionInfo": {
     "elapsed": 1578,
     "status": "ok",
     "timestamp": 1629195041309,
     "user": {
      "displayName": "‍유상민[학생](이과대학 생물학과)",
      "photoUrl": "",
      "userId": "15014503589518623359"
     },
     "user_tz": -540
    },
    "id": "Vj6dxmBwiBWc",
    "outputId": "5c6955d0-5fcc-4174-eb5b-c466d33b6c89"
   },
   "outputs": [
    {
     "name": "stdout",
     "output_type": "stream",
     "text": [
      "Model: \"model\"\n",
      "__________________________________________________________________________________________________\n",
      "Layer (type)                    Output Shape         Param #     Connected to                     \n",
      "==================================================================================================\n",
      "input_1 (InputLayer)            [(None, 40)]         0                                            \n",
      "__________________________________________________________________________________________________\n",
      "embedding (Embedding)           (None, 40, 128)      2560000     input_1[0][0]                    \n",
      "__________________________________________________________________________________________________\n",
      "lstm (LSTM)                     [(None, 40, 256), (N 394240      embedding[0][0]                  \n",
      "__________________________________________________________________________________________________\n",
      "input_2 (InputLayer)            [(None, None)]       0                                            \n",
      "__________________________________________________________________________________________________\n",
      "lstm_1 (LSTM)                   [(None, 40, 256), (N 525312      lstm[0][0]                       \n",
      "__________________________________________________________________________________________________\n",
      "embedding_1 (Embedding)         (None, None, 128)    1280000     input_2[0][0]                    \n",
      "__________________________________________________________________________________________________\n",
      "lstm_2 (LSTM)                   [(None, 40, 256), (N 525312      lstm_1[0][0]                     \n",
      "__________________________________________________________________________________________________\n",
      "lstm_3 (LSTM)                   [(None, None, 256),  394240      embedding_1[0][0]                \n",
      "                                                                 lstm_2[0][1]                     \n",
      "                                                                 lstm_2[0][2]                     \n",
      "__________________________________________________________________________________________________\n",
      "attention_layer (AttentionLayer ((None, None, 256),  131328      lstm_2[0][0]                     \n",
      "                                                                 lstm_3[0][0]                     \n",
      "__________________________________________________________________________________________________\n",
      "concat_layer (Concatenate)      (None, None, 512)    0           lstm_3[0][0]                     \n",
      "                                                                 attention_layer[0][0]            \n",
      "__________________________________________________________________________________________________\n",
      "dense (Dense)                   (None, None, 10000)  5130000     concat_layer[0][0]               \n",
      "==================================================================================================\n",
      "Total params: 10,940,432\n",
      "Trainable params: 10,940,432\n",
      "Non-trainable params: 0\n",
      "__________________________________________________________________________________________________\n"
     ]
    }
   ],
   "source": [
    "# 디코더 출력층 수정\n",
    "\n",
    "# 어텐션 층(어텐션 함수)\n",
    "attn_layer = AttentionLayer(name='attention_layer')\n",
    "# 인코더와 디코더의 모든 time step의 hidden state를 어텐션 층에 전달하고 결과를 리턴\n",
    "attn_out, attn_states = attn_layer([encoder_outputs, decoder_outputs])\n",
    "\n",
    "# 어텐션의 결과와 디코더의 hidden state들을 연결\n",
    "decoder_concat_input = Concatenate(axis=-1, name='concat_layer')([decoder_outputs, attn_out])\n",
    "\n",
    "# 디코더의 출력층\n",
    "decoder_softmax_layer = Dense(tar_vocab, activation='softmax')\n",
    "decoder_softmax_outputs = decoder_softmax_layer(decoder_concat_input)\n",
    "\n",
    "# 모델 정의\n",
    "model = Model([encoder_inputs, decoder_inputs], decoder_softmax_outputs)\n",
    "model.summary()"
   ]
  },
  {
   "cell_type": "code",
   "execution_count": 34,
   "metadata": {
    "colab": {
     "base_uri": "https://localhost:8080/",
     "height": 1000
    },
    "executionInfo": {
     "elapsed": 9580943,
     "status": "error",
     "timestamp": 1629204641448,
     "user": {
      "displayName": "‍유상민[학생](이과대학 생물학과)",
      "photoUrl": "",
      "userId": "15014503589518623359"
     },
     "user_tz": -540
    },
    "id": "XynyoWNBiVte",
    "outputId": "7281222f-afa0-4bd2-cffb-67f98c2b990c"
   },
   "outputs": [
    {
     "name": "stdout",
     "output_type": "stream",
     "text": [
      "Epoch 1/50\n",
      "232/232 [==============================] - 153s 611ms/step - loss: 6.7608 - val_loss: 5.9527\n",
      "Epoch 2/50\n",
      "232/232 [==============================] - 140s 606ms/step - loss: 5.9417 - val_loss: 5.6588\n",
      "Epoch 3/50\n",
      "232/232 [==============================] - 142s 612ms/step - loss: 5.5639 - val_loss: 5.3566\n",
      "Epoch 4/50\n",
      "232/232 [==============================] - 142s 611ms/step - loss: 5.2784 - val_loss: 5.1710\n",
      "Epoch 5/50\n",
      "232/232 [==============================] - 141s 607ms/step - loss: 5.0142 - val_loss: 4.9670\n",
      "Epoch 6/50\n",
      "232/232 [==============================] - 141s 608ms/step - loss: 4.8044 - val_loss: 4.8323\n",
      "Epoch 7/50\n",
      "232/232 [==============================] - 141s 609ms/step - loss: 4.6211 - val_loss: 4.7309\n",
      "Epoch 8/50\n",
      "232/232 [==============================] - 142s 611ms/step - loss: 4.4575 - val_loss: 4.6393\n",
      "Epoch 9/50\n",
      "232/232 [==============================] - 142s 610ms/step - loss: 4.3098 - val_loss: 4.5691\n",
      "Epoch 10/50\n",
      "232/232 [==============================] - 140s 605ms/step - loss: 4.1723 - val_loss: 4.5119\n",
      "Epoch 11/50\n",
      "232/232 [==============================] - 139s 601ms/step - loss: 4.0552 - val_loss: 4.4494\n",
      "Epoch 12/50\n",
      "232/232 [==============================] - 139s 601ms/step - loss: 3.9470 - val_loss: 4.4151\n",
      "Epoch 13/50\n",
      "232/232 [==============================] - 138s 594ms/step - loss: 3.8513 - val_loss: 4.3818\n",
      "Epoch 14/50\n",
      "232/232 [==============================] - 137s 589ms/step - loss: 3.7585 - val_loss: 4.3435\n",
      "Epoch 15/50\n",
      "232/232 [==============================] - 136s 585ms/step - loss: 3.6759 - val_loss: 4.3207\n",
      "Epoch 16/50\n",
      "232/232 [==============================] - 135s 584ms/step - loss: 3.5862 - val_loss: 4.2977\n",
      "Epoch 17/50\n",
      "232/232 [==============================] - 136s 585ms/step - loss: 3.5160 - val_loss: 4.2747\n",
      "Epoch 18/50\n",
      "232/232 [==============================] - 135s 582ms/step - loss: 3.4529 - val_loss: 4.2542\n",
      "Epoch 19/50\n",
      "232/232 [==============================] - 136s 586ms/step - loss: 3.3780 - val_loss: 4.2485\n",
      "Epoch 20/50\n",
      "232/232 [==============================] - 136s 584ms/step - loss: 3.3206 - val_loss: 4.2370\n",
      "Epoch 21/50\n",
      "232/232 [==============================] - 135s 583ms/step - loss: 3.2541 - val_loss: 4.2353\n",
      "Epoch 22/50\n",
      "232/232 [==============================] - 135s 583ms/step - loss: 3.1997 - val_loss: 4.2230\n",
      "Epoch 23/50\n",
      "232/232 [==============================] - 136s 586ms/step - loss: 3.1474 - val_loss: 4.2185\n",
      "Epoch 24/50\n",
      "232/232 [==============================] - 136s 586ms/step - loss: 3.0948 - val_loss: 4.2198\n",
      "Epoch 25/50\n",
      "232/232 [==============================] - 136s 585ms/step - loss: 3.0445 - val_loss: 4.2135\n",
      "Epoch 26/50\n",
      "232/232 [==============================] - 136s 585ms/step - loss: 3.0052 - val_loss: 4.2054\n",
      "Epoch 27/50\n",
      "232/232 [==============================] - 135s 584ms/step - loss: 2.9634 - val_loss: 4.2067\n",
      "Epoch 28/50\n",
      "232/232 [==============================] - 135s 584ms/step - loss: 2.9194 - val_loss: 4.2072\n",
      "Epoch 00028: early stopping\n"
     ]
    }
   ],
   "source": [
    "# 모델 훈련\n",
    "\n",
    "model.compile(optimizer='rmsprop', loss='sparse_categorical_crossentropy')\n",
    "es = EarlyStopping(monitor='val_loss', patience=2, verbose=1)\n",
    "history = model.fit(x=[encoder_input_train, decoder_input_train], y=decoder_target_train, \\\n",
    "          validation_data=([encoder_input_test, decoder_input_test], decoder_target_test), \\\n",
    "          batch_size=256, callbacks=[es], epochs=50)"
   ]
  },
  {
   "cell_type": "code",
   "execution_count": 35,
   "metadata": {
    "colab": {
     "base_uri": "https://localhost:8080/",
     "height": 239
    },
    "executionInfo": {
     "elapsed": 544,
     "status": "error",
     "timestamp": 1629204643455,
     "user": {
      "displayName": "‍유상민[학생](이과대학 생물학과)",
      "photoUrl": "",
      "userId": "15014503589518623359"
     },
     "user_tz": -540
    },
    "id": "i3o6cHLNiYq1",
    "outputId": "c6a086d6-335a-4b28-da25-991fc9375d33"
   },
   "outputs": [
    {
     "data": {
      "image/png": "[encoded data removed]",
      "text/plain": [
       "<Figure size 432x288 with 1 Axes>"
      ]
     },
     "metadata": {
      "needs_background": "light"
     },
     "output_type": "display_data"
    }
   ],
   "source": [
    "# 훈련 데이터의 손실과 검증 데이터의 손실이 줄어드는 과정을 시각화\n",
    "\n",
    "plt.plot(history.history['loss'], label='train')\n",
    "plt.plot(history.history['val_loss'], label='test')\n",
    "plt.legend()\n",
    "plt.show()"
   ]
  },
  {
   "cell_type": "code",
   "execution_count": 41,
   "metadata": {},
   "outputs": [],
   "source": [
    "# 필요한 3개의 사전을 미리 준비\n",
    "\n",
    "src_index_to_word = src_tokenizer.index_word # 원문 단어 집합에서 정수 -> 단어를 얻음\n",
    "tar_word_to_index = tar_tokenizer.word_index # 요약 단어 집합에서 단어 -> 정수를 얻음\n",
    "tar_index_to_word = tar_tokenizer.index_word # 요약 단어 집합에서 정수 -> 단어를 얻음"
   ]
  },
  {
   "cell_type": "code",
   "execution_count": 42,
   "metadata": {
    "id": "YkD8k9IZo0SR"
   },
   "outputs": [],
   "source": [
    "# 인퍼런스 단계의 인코더 모델과 디코더 모델을 분리해서 설계\n",
    "\n",
    "# 인코더 설계\n",
    "encoder_model = Model(inputs=encoder_inputs, outputs=[encoder_outputs, state_h, state_c])\n",
    "\n",
    "# 이전 시점의 상태들을 저장하는 텐서\n",
    "decoder_state_input_h = Input(shape=(hidden_size,))\n",
    "decoder_state_input_c = Input(shape=(hidden_size,))\n",
    "\n",
    "dec_emb2 = dec_emb_layer(decoder_inputs)\n",
    "\n",
    "# 문장의 다음 단어를 예측하기 위해서 초기 상태(initial_state)를 이전 시점의 상태로 사용. 이는 뒤의 함수 decode_sequence()에 구현\n",
    "# 훈련 과정에서와 달리 LSTM의 리턴하는 은닉 상태와 셀 상태인 state_h와 state_c를 버리지 않음.\n",
    "decoder_outputs2, state_h2, state_c2 = decoder_lstm(dec_emb2, initial_state=[decoder_state_input_h, decoder_state_input_c])"
   ]
  },
  {
   "cell_type": "code",
   "execution_count": 43,
   "metadata": {
    "id": "JGXoanU9o-__"
   },
   "outputs": [],
   "source": [
    "# 어텐션 함수\n",
    "decoder_hidden_state_input = Input(shape=(text_max_len, hidden_size))\n",
    "attn_out_inf, attn_states_inf = attn_layer([decoder_hidden_state_input, decoder_outputs2])\n",
    "decoder_inf_concat = Concatenate(axis=-1, name='concat')([decoder_outputs2, attn_out_inf])\n",
    "\n",
    "# 디코더의 출력층\n",
    "decoder_outputs2 = decoder_softmax_layer(decoder_inf_concat) \n",
    "\n",
    "# 최종 디코더 모델\n",
    "decoder_model = Model(\n",
    "    [decoder_inputs] + [decoder_hidden_state_input,decoder_state_input_h, decoder_state_input_c],\n",
    "    [decoder_outputs2] + [state_h2, state_c2])"
   ]
  },
  {
   "cell_type": "code",
   "execution_count": 44,
   "metadata": {
    "id": "PgSu89I5pBeS"
   },
   "outputs": [],
   "source": [
    "# 인퍼런스 단계에서 단어 시퀀스를 완성하는 함수\n",
    "\n",
    "def decode_sequence(input_seq):\n",
    "    # 입력으로부터 인코더의 상태를 얻음\n",
    "    e_out, e_h, e_c = encoder_model.predict(input_seq)\n",
    "\n",
    "     # <SOS>에 해당하는 토큰 생성\n",
    "    target_seq = np.zeros((1,1))\n",
    "    target_seq[0, 0] = tar_word_to_index['sostoken']\n",
    "\n",
    "    stop_condition = False\n",
    "    decoded_sentence = ''\n",
    "    while not stop_condition: # stop_condition이 True가 될 때까지 루프 반복\n",
    "\n",
    "        output_tokens, h, c = decoder_model.predict([target_seq] + [e_out, e_h, e_c])\n",
    "        sampled_token_index = np.argmax(output_tokens[0, -1, :])\n",
    "        sampled_token = tar_index_to_word[sampled_token_index]\n",
    "\n",
    "        if (sampled_token!='eostoken'):\n",
    "            decoded_sentence += ' '+sampled_token\n",
    "\n",
    "        #  <eos>에 도달하거나 최대 길이를 넘으면 중단.\n",
    "        if (sampled_token == 'eostoken'  or len(decoded_sentence.split()) >= (summary_max_len-1)):\n",
    "            stop_condition = True\n",
    "\n",
    "        # 길이가 1인 타겟 시퀀스를 업데이트\n",
    "        target_seq = np.zeros((1,1))\n",
    "        target_seq[0, 0] = sampled_token_index\n",
    "\n",
    "        # 상태를 업데이트 합니다.\n",
    "        e_h, e_c = h, c\n",
    "\n",
    "    return decoded_sentence"
   ]
  },
  {
   "cell_type": "markdown",
   "metadata": {
    "id": "hKT1Ikw93Vv9"
   },
   "source": [
    "### 실제 결과와 요약문 비교하기 \n",
    "\n",
    "원래의 요약문(headlines 열)과 학습을 통해 얻은 추상적 요약의 결과를 비교해 보세요."
   ]
  },
  {
   "cell_type": "code",
   "execution_count": 45,
   "metadata": {
    "id": "mGawQ7IIpLUG"
   },
   "outputs": [],
   "source": [
    "# 원문의 정수 시퀀스를 텍스트 시퀀스로 변환\n",
    "def seq2text(input_seq):\n",
    "    temp=''\n",
    "    for i in input_seq:\n",
    "        if (i!=0):\n",
    "            temp = temp + src_index_to_word[i]+' '\n",
    "    return temp\n",
    "\n",
    "# 요약문의 정수 시퀀스를 텍스트 시퀀스로 변환\n",
    "def seq2summary(input_seq):\n",
    "    temp=''\n",
    "    for i in input_seq:\n",
    "        if ((i!=0 and i!=tar_word_to_index['sostoken']) and i!=tar_word_to_index['eostoken']):\n",
    "            temp = temp + tar_index_to_word[i] + ' '\n",
    "    return temp"
   ]
  },
  {
   "cell_type": "code",
   "execution_count": 47,
   "metadata": {
    "id": "DyvE-lBdpMWW"
   },
   "outputs": [
    {
     "name": "stdout",
     "output_type": "stream",
     "text": [
      "원문 : indian cricket team facing sri lanka third test feroz shah kotla lost test delhi stadium since india registered three wins tests played feroz shah kotla india played tests kotla winning drawing one \n",
      "실제 제목 : india has not lost test at shah since \n",
      "예측 제목 :  india test team series in india\n",
      "\n",
      "원문 : congress president rahul gandhi said pm narendra modi able speak parliament minutes bjp said year old cannot speak anywhere minutes without consulting slip bjp said gandhi claim pm modi would able face parliament issues like pnb fraud \n",
      "실제 제목 : rahul cannot speak for min without looking at slips bjp \n",
      "예측 제목 :  pm modi is the most dangerous pm modi\n",
      "\n",
      "원문 : according data released us government americans paid billion bounced check fees banks assets billion reported billion fees increase according study half consumers aware fees \n",
      "실제 제목 : americans paid cr in check fees \n",
      "예측 제목 :  indian firms banks billion tax fraud in\n",
      "\n",
      "원문 : man arrested killing year old mother pushing building terrace gujarat rajkot september last year man earlier claimed mother fallen losing balance cctv footage revealed fell confessed fed illness police said \n",
      "실제 제목 : man arrested for throwing mother off terrace \n",
      "예측 제목 :  man arrested for raping year old in bihar\n",
      "\n",
      "원문 : iranian man publicly times drinking alcohol years ago human rights organisation amnesty international said man reportedly arrested sentenced next year per iranian laws punishment consumption alcohol muslim \n",
      "실제 제목 : iranian man times for drinking alcohol yrs ago \n",
      "예측 제목 :  taliban finds kg of women in years\n",
      "\n",
      "원문 : first american scientists grown miniature human brains mice skulls survived average days around mice survived operation within two weeks brain implants grown human stem cells generating new breakthrough could help treat neurological disorders like autism dementia schizophrenia said researchers \n",
      "실제 제목 : human brains grown in mice for first time survive days \n",
      "예측 제목 :  human brain found in first time in years\n",
      "\n",
      "원문 : sushant singh rajput upcoming film legal trouble makers recently released hours martyr never died claimed original rights make film based singh rawat life hours martyr never died director avinash also slammed sushant verifying legal aspect signing film \n",
      "실제 제목 : sushant film in legal trouble over original rights \n",
      "예측 제목 :  sushant singh rajput rajput rajput\n",
      "\n",
      "원문 : body former lok sabha speaker somnath chatterjee flag kolkata based football club mohun bagan member years family rejected proposal cpi leaders mortal remains party flag chatterjee expelled cpi \n",
      "실제 제목 : somnath chatterjee body in flag of football club \n",
      "예측 제목 :  puducherry parliament passes away aged\n",
      "\n",
      "원문 : katrina kaif become first bollywood star feature peruvian photographer mario towel series shared photo instagram wrote thank mario wonderful experience shooting legendary mario photographed several international celebrities including selena gomez kendall jenner towel series \n",
      "실제 제목 : katrina st bollywood star in mario towel series \n",
      "예측 제목 :  katrina kaif shares picture with salman\n",
      "\n",
      "원문 : year old boy rajasthan witnessed mother assaulted stripped naked fed human labelled witch villagers boy even threatened treated way tried save mother however died next day panchayat ordered file police complaint \n",
      "실제 제목 : rajasthan teen witnesses mother being stripped fed \n",
      "예측 제목 :  teen dies after being hit by\n",
      "\n",
      "원문 : shah rukh khan anushka sharma katrina kaif starrer zero becomes goes along wrote hindustan times plot neither offend said times india indian express said zero fails giving us anything believe rated \n",
      "실제 제목 : shah rukh khan anushka katrina starrer zero hits theatres \n",
      "예측 제목 :  anushka katrina starrer hits the theatres\n",
      "\n",
      "원문 : brazilian footballer neymar jr converted entry stake finishing sixth competitors brazilian series poker event happy playing tournament first time reaching final great players neymar said neymar entered tournament five friends \n",
      "실제 제목 : neymar earns lakh finishes th in brazilian poker event \n",
      "예측 제목 :  neymar to miss world cup prize\n",
      "\n",
      "원문 : indian born hindi spanish speaking business student named runners miss usa want show americans definition means american changing said scientist activist ra works nuclear regulatory commission nuclear plants crowned miss usa \n",
      "실제 제목 : indian origin woman crowned runners up at miss usa \n",
      "예측 제목 :  indian origin indian woman named best transgender\n",
      "\n",
      "원문 : rio olympic silver medallist pv sindhu finished runner losing america zhang final sunday zhang defeated world number four sindhu scoreline took head head record indian sindhu lifted india open title last year defeating olympic champion carolina marin \n",
      "실제 제목 : defending champion sindhu finishes as india open runner up \n",
      "예측 제목 :  sindhu wins silver at world ships no championships\n",
      "\n",
      "원문 : pnb filed two complaints cbi billionaire jeweller nirav modi jewellery company alleging fraudulent transactions worth billion officials said modi already investigated cbi alleged cheating fraud involving crore pnb branch disclosed whether jewellery company linked nirav modi \n",
      "실제 제목 : pnb moves cbi against nirav modi for billion fraud \n",
      "예측 제목 :  pnb fraud case against nirav modi firm\n",
      "\n",
      "원문 : students narayana junior residential college hyderabad tuesday night went apparently college authorities rejected repeated requests outing students allegedly locked staff ransacked office classrooms set fire furniture college management declared holiday stating students needed break \n",
      "실제 제목 : hyd students damage college property after denied \n",
      "예측 제목 :  students steal jnu students in noida varsity\n",
      "\n",
      "원문 : shahid kapoor alia bhatt best actor best actress awards respectively film udta punjab iifa awards diljit dosanjh best debutant award udta punjab meanwhile disha patani best debutant award anupam kher named best supporting actor ms dhoni untold story \n",
      "실제 제목 : shahid alia named best actor best actress at iifa \n",
      "예측 제목 :  shahid kapoor named world highest paid actor\n",
      "\n",
      "원문 : princeton researchers used data video game players creating brain atlas neurons six types appeared novel matching descriptions could found literature said researchers project pairs machine learning gamers trace paths hence identifying new patterns \n",
      "실제 제목 : study with lakh discovers new types \n",
      "예측 제목 :  mit develops ai to detect hole in milky way\n",
      "\n",
      "원문 : twenty three time grand slam champion serena williams husband alexis ohanian put four billboards along highway california images daughter alexis olympia say greatest time wanted welcome back tennis designed help jr ohanian tweeted \n",
      "실제 제목 : serena husband puts up greatest for her \n",
      "예측 제목 :  serena williams was never to be auctioned\n",
      "\n",
      "원문 : oneplus ceo pete come detailed explanation surrounding use display fingerprint technology upcoming smartphone oneplus uses optical fingerprint module includes small lens fingerprint pressed cover glass experience screen unlock fall love said \n",
      "실제 제목 : oneplus ceo details screen unlock feature on oneplus \n",
      "예측 제목 :  whatsapp rolls out feature to make android\n",
      "\n"
     ]
    }
   ],
   "source": [
    "# 테스트 데이터 약 50개의 샘플에 대해서 실제 요약과 예측된 요약을 비교\n",
    "\n",
    "for i in range(50, 70):\n",
    "    print('　원 문　 :', seq2text(encoder_input_test[i]))\n",
    "    print('실제 제목 :', seq2summary(decoder_input_test[i]))\n",
    "    print('예측 제목 :', decode_sequence(encoder_input_test[i].reshape(1, text_max_len)))\n",
    "    print()"
   ]
  },
  {
   "cell_type": "markdown",
   "metadata": {},
   "source": [
    "문장들을 하나하나 다 뜯어 볼 수는 없어서 대충 훑어보던 중에 발견한 내용이\n",
    "\n",
    "구자라트 주 라지코트에서 노모가 건물 테라스에서 실족사했다고 주장하던 남성이 cctv로 덜미를 잡혀서 체포되었다는 내용인데\n",
    "\n",
    ">원문 : man arrested killing year old mother pushing building terrace gujarat rajkot september last year man earlier claimed mother fallen losing balance cctv footage revealed fell confessed fed illness police said \n",
    "\n",
    "실제 제목은 적당히 내용을 요약해주었지만\n",
    ">실제 제목 : man arrested for throwing mother off terrace \n",
    "\n",
    "예측 결과는 갑자기 영아 강간죄가 되었고, 인도 서부의 구자라트가 아닌 북동쪽 비하르주에 가버렸다..\n",
    ">예측 제목 :  man arrested for raping year old in bihar\n",
    "\n",
    "체포된 거 말고는 겹치는 게 하나도 없잖아....\n",
    "\n",
    "그 아래의 문장도 웃기는게 인간의 뇌를 생쥐에게 이식해서 며칠간 생존한 연구 결과를 발표하는 내용인데\n",
    "\n",
    ">원문 : first american scientists grown miniature human brains mice skulls survived average days around mice survived operation within two weeks brain implants grown human stem cells generating new breakthrough could help treat neurological disorders like autism dementia schizophrenia said researchers \n",
    "\n",
    ">실제 제목 : human brains grown in mice for first time survive days \n",
    "\n",
    "뇌를 처음으로 발견한 사람들이 되었다 ㅋㅋ\n",
    ">예측 제목 :  human brain found in first time in years\n",
    "\n",
    "이건 해석 해보지 않아도 아찔하다 rajput rajput rajput\n",
    "\n",
    ">원문 : sushant singh rajput upcoming film legal trouble makers recently released hours martyr never died claimed original rights make film based singh rawat life hours martyr never died director avinash also slammed sushant verifying legal aspect signing film \n",
    "\n",
    ">실제 제목 : sushant film in legal trouble over original rights \n",
    "\n",
    ">예측 제목 :  sushant singh rajput rajput rajput\n",
    "\n",
    "아내를 위해 광고를 거는 남편의 이야기인데\n",
    "\n",
    "예측대로라면, 아내는 옥션에 팔릴뻔 했던 것 같다\n",
    ">원문 : twenty three time grand slam champion serena williams husband alexis ohanian put four billboards along highway california images daughter alexis olympia say greatest time wanted welcome back tennis designed help jr ohanian tweeted \n",
    "\n",
    ">실제 제목 : serena husband puts up greatest for her \n",
    "\n",
    ">예측 제목 :  serena williams was never to be auctioned\n",
    "\n"
   ]
  },
  {
   "cell_type": "markdown",
   "metadata": {
    "id": "9xMmpWjb3Zd_"
   },
   "source": [
    "## 추출적 요약\n",
    "\n",
    "추상적 요약은 추출적 요약과는 달리 문장의 표현력을 다양하게 가져갈 수 있지만, 추출적 요약에 비해서 난이도가 높아요. 반대로 말하면 추출적 요약은 추상적 요약에 비해 난이도가 낮고 기존 문장에서 문장을 꺼내오는 것이므로 잘못된 요약이 나올 가능성이 낮아요.\n",
    "\n",
    "Summa의 summarize를 사용하여 추출적 요약을 해보세요."
   ]
  },
  {
   "cell_type": "code",
   "execution_count": 64,
   "metadata": {
    "executionInfo": {
     "elapsed": 28,
     "status": "ok",
     "timestamp": 1629194802224,
     "user": {
      "displayName": "‍유상민[학생](이과대학 생물학과)",
      "photoUrl": "",
      "userId": "15014503589518623359"
     },
     "user_tz": -540
    },
    "id": "gTtgucDU3ohQ"
   },
   "outputs": [
    {
     "data": {
      "text/plain": [
       "0    Saurav Kant, an alumnus of upGrad and IIIT-B's...\n",
       "1    Kunal Shah's credit card bill payment platform...\n",
       "2    New Zealand defeated India by 8 wickets in the...\n",
       "3    With Aegon Life iTerm Insurance plan, customer...\n",
       "4    Speaking about the sexual harassment allegatio...\n",
       "Name: text, dtype: object"
      ]
     },
     "execution_count": 64,
     "metadata": {},
     "output_type": "execute_result"
    }
   ],
   "source": [
    "# 데이터 다시 다운로드\n",
    "\n",
    "import requests\n",
    "from summa.summarizer import summarize\n",
    "\n",
    "urllib.request.urlretrieve(\"https://raw.githubusercontent.com/sunnysai12345/News_Summary/master/news_summary_more.csv\", filename=\"news_summary_more.csv\")\n",
    "data2 = pd.read_csv('news_summary_more.csv', encoding='iso-8859-1')\n",
    "\n",
    "text = data2['text'].copy()\n",
    "text.head()"
   ]
  },
  {
   "cell_type": "code",
   "execution_count": 74,
   "metadata": {},
   "outputs": [
    {
     "name": "stdout",
     "output_type": "stream",
     "text": [
      "　원 문　 : man arrested killing year old mother pushing building terrace gujarat rajkot september last year man earlier claimed mother fallen losing balance cctv footage revealed fell confessed fed illness police said\n",
      "예측 제목 : \n",
      "\n",
      "　원 문　 : first american scientists grown miniature human brains mice skulls survived average days around mice survived operation within two weeks brain implants grown human stem cells generating new breakthrough could help treat neurological disorders like autism dementia schizophrenia said researchers\n",
      "예측 제목 : \n",
      "\n",
      "　원 문　 : twenty three time grand slam champion serena williams husband alexis ohanian put four billboards along highway california images daughter alexis olympia say greatest time wanted welcome back tennis designed help jr ohanian tweeted\n",
      "예측 제목 : \n",
      "\n"
     ]
    }
   ],
   "source": [
    "# 궁금한 문장 몇개만 따로 따서 확인해보자\n",
    "\n",
    "news1 = 'man arrested killing year old mother pushing building terrace gujarat rajkot september last year man earlier claimed mother fallen losing balance cctv footage revealed fell confessed fed illness police said'\n",
    "news2 = 'first american scientists grown miniature human brains mice skulls survived average days around mice survived operation within two weeks brain implants grown human stem cells generating new breakthrough could help treat neurological disorders like autism dementia schizophrenia said researchers'\n",
    "news3 = 'twenty three time grand slam champion serena williams husband alexis ohanian put four billboards along highway california images daughter alexis olympia say greatest time wanted welcome back tennis designed help jr ohanian tweeted'\n",
    "\n",
    "news = [news1, news2, news3]\n",
    "\n",
    "for i in news:\n",
    "    print('　원 문　 :', i)\n",
    "    print('예측 제목 :', summarize(i, ratio = i))\n",
    "    print()"
   ]
  },
  {
   "cell_type": "code",
   "execution_count": 76,
   "metadata": {},
   "outputs": [
    {
     "name": "stdout",
     "output_type": "stream",
     "text": [
      "원문 : Saurav Kant, an alumnus of upGrad and IIIT-B's PG Program in Machine learning and Artificial Intelligence, was a Sr Systems Engineer at Infosys with almost 5 years of work experience. The program and upGrad's 360-degree career support helped him transition to a Data Scientist at Tech Mahindra with 90% salary hike. upGrad's Online Power Learning has powered 3 lakh+ careers.\n",
      "실제 요약 : upGrad learner switches to career in ML & Al with 90% salary hike\n",
      "예측 요약 : upGrad's Online Power Learning has powered 3 lakh+ careers.\n",
      "\n",
      "원문 : Kunal Shah's credit card bill payment platform, CRED, gave users a chance to win free food from Swiggy for one year. Pranav Kaushik, a Delhi techie, bagged this reward after spending 2000 CRED coins. Users get one CRED coin per rupee of bill paid, which can be used to avail rewards from brands like Ixigo, BookMyShow, UberEats, Cult.Fit and more.\n",
      "실제 요약 : Delhi techie wins free food from Swiggy for one year on CRED\n",
      "예측 요약 : \n",
      "\n",
      "원문 : New Zealand defeated India by 8 wickets in the fourth ODI at Hamilton on Thursday to win their first match of the five-match ODI series. India lost an international match under Rohit Sharma's captaincy after 12 consecutive victories dating back to March 2018. The match witnessed India getting all out for 92, their seventh lowest total in ODI cricket history.\n",
      "실제 요약 : New Zealand end Rohit Sharma-led India's 12-match winning streak\n",
      "예측 요약 : The match witnessed India getting all out for 92, their seventh lowest total in ODI cricket history.\n",
      "\n",
      "원문 : With Aegon Life iTerm Insurance plan, customers can enjoy tax benefits on your premiums paid and save up to Ã¢ÂÂ¹46,800^ on taxes. The plan provides life cover up to the age of 100 years. Also, customers have options to insure against Critical Illnesses, Disability and Accidental Death Benefit Rider with a life cover up to the age of 80 years.\n",
      "실제 요약 : Aegon life iTerm insurance plan helps customers save tax\n",
      "예측 요약 : \n",
      "\n",
      "원문 : Speaking about the sexual harassment allegations against Rajkumar Hirani, Sonam Kapoor said, \"I've known Hirani for many years...What if it's not true, the [#MeToo] movement will get derailed.\" \"In the #MeToo movement, I always believe a woman. But in this case, we need to reserve our judgment,\" she added. Hirani has been accused by an assistant who worked in 'Sanju'.\n",
      "실제 요약 : Have known Hirani for yrs, what if MeToo claims are not true: Sonam\n",
      "예측 요약 : \n",
      "\n",
      "원문 : Pakistani singer Rahat Fateh Ali Khan has denied receiving any notice from the Enforcement Directorate over allegedly smuggling foreign currency out of India. \"It would have been better if the authorities would have served the notice first if any and then publicised this,\" reads a press release issued on behalf of Rahat. The statement further called the allegation \"bizarre\".\n",
      "실제 요약 : Rahat Fateh Ali Khan denies getting notice for smuggling currency\n",
      "예측 요약 : \n",
      "\n",
      "원문 : India recorded their lowest ODI total in New Zealand after getting all out for 92 runs in 30.5 overs in the fourth ODI at Hamilton on Thursday. Seven of India's batsmen were dismissed for single-digit scores, while their number ten batsman Yuzvendra Chahal top-scored with 18*(37). India's previous lowest ODI total in New Zealand was 108.\n",
      "실제 요약 : India get all out for 92, their lowest ODI total in New Zealand\n",
      "예측 요약 : India's previous lowest ODI total in New Zealand was 108.\n",
      "\n",
      "원문 : Weeks after ex-CBI Director Alok Verma told the Department of Personnel and Training to consider him retired, the Home Ministry asked him to join work on the last day of his fixed tenure as Director on Thursday. The ministry directed him to immediately join as DG, Fire Services, the post he was transferred to after his removal as CBI chief.\n",
      "실제 요약 : Govt directs Alok Verma to join work 1 day before his retirement\n",
      "예측 요약 : \n",
      "\n",
      "원문 : Andhra Pradesh CM N Chandrababu Naidu has said, \"When I met then US President Bill Clinton, I addressed him as Mr Clinton, not as 'sir'. (PM Narendra) Modi is my junior in politics...I addressed him as sir 10 times.\" \"I did this...to satisfy his ego in the hope that he will do justice to the state,\" he added.\n",
      "실제 요약 : Called PM Modi 'sir' 10 times to satisfy his ego: Andhra CM\n",
      "예측 요약 : \n",
      "\n",
      "원문 : Congress candidate Shafia Zubair won the Ramgarh Assembly seat in Rajasthan, by defeating BJP's Sukhwant Singh with a margin of 12,228 votes in the bypoll. With this victory, Congress has taken its total to 100 seats in the 200-member assembly. The election to the Ramgarh seat was delayed due to the death of sitting MLA and BSP candidate Laxman Singh.\n",
      "실제 요약 : Cong wins Ramgarh bypoll in Rajasthan, takes total to 100 seats\n",
      "예측 요약 : \n",
      "\n",
      "원문 : Two minor cousins in Uttar Pradesh's Gorakhpur were allegedly repeatedly burnt with tongs and forced to eat human excreta by their family for being friends with two boys from the same school. The cousins revealed their ordeal to the police and Child Welfare Committee after being brought back to Gorakhpur from Nepal, where they had fled to escape the torture.\n",
      "실제 요약 : UP cousins fed human excreta for friendship with boys\n",
      "예측 요약 : \n",
      "\n",
      "원문 : Isha Ghosh, an 81-year-old member of Bharat Scouts and Guides (BSG), has been imparting physical and mental training to schoolchildren in Jharkhand for several decades. Chaibasa-based Ghosh reportedly walks seven kilometres daily and spends eight hours conducting physical training, apart from climbing and yoga sessions. She says, \"One should do something for society till one's last breath.\"\n",
      "실제 요약 : 81-yr-old woman conducts physical training in J'khand schools\n",
      "예측 요약 : \n",
      "\n",
      "원문 : Urging saints and seers at the Kumbh Mela to quit smoking, Yoga guru Ramdev said, \"We follow Ram and Krishna who never smoked in their life then why should we?\" Making them take a pledge to quit tobacco, he collected chillum (clay pipe) from several sadhus. He said he will deposit the chillums for display at a museum he'll build.\n",
      "실제 요약 : Ram, Krishna didn't smoke, why should we: Ramdev to sadhus at Kumbh\n",
      "예측 요약 : \n",
      "\n",
      "원문 : Former stripper and regional sales director of a pharmaceutical company, Sunrise Lee, gave a doctor a lap dance in a nightclub to persuade him to prescribe an addictive fentanyl spray in 2012, the company's sales representative told a US court. She said she saw Lee \"sitting on [doctor's] lap, kind of bouncing around.\" Lee has been accused of bribing doctors.\n",
      "실제 요약 : Pharma exec gave doctor a lap dance to sell medicine in US: Witness\n",
      "예측 요약 : \n",
      "\n",
      "원문 : Reliance Industries' Chairman Mukesh Ambani's daughter Isha Ambani, who got married last month, said she only cried at her 'bidaai' because she felt peer pressure as everyone was crying, especially her parents. \"I was emotional too but everyone around me would cry all the time,\" she added. \"It was a very emotional affair for everyone in my family,\" said Isha.\n",
      "실제 요약 :  I only cried at my 'bidaai' as I felt peer pressure: Isha Ambani\n",
      "예측 요약 : \"It was a very emotional affair for everyone in my family,\" said Isha.\n",
      "\n",
      "원문 : Louis Vuitton owner LVMH, which makes high-end beverages like MoÃÂ«t & Chandon champagne and Hennessy cognac, said it's stockpiling four months' worth of wine and spirits in UK in preparation for Brexit. \"We're ready for worst case scenario if there are difficulties with deliveries,\" the French luxury giant said. The UK is scheduled to leave the EU on March 29.\n",
      "실제 요약 : Louis Vuitton owner to stockpile 4 months of wine, spirits in UK\n",
      "예측 요약 : \n",
      "\n",
      "원문 : Filmmaker Karan Johar and actress Tabu turned showstoppers for Gaurav Gupta on the opening night of LakmÃÂ© Fashion Week Summer/ Resort 2019. While Johar wore a red sequinned jacket with black pants, Tabu walked the ramp in a grey embellished gown. The fashion show, which began on January 29, will continue till February 3.\n",
      "실제 요약 : Karan Johar, Tabu turn showstoppers on opening night of LFW\n",
      "예측 요약 : \n",
      "\n",
      "원문 : In a jibe at Congress President Rahul Gandhi, PM Narendra Modi on Wednesday said those on \"bail will have to go to jail.\" PM Modi added, \"He is out on bail and his associates too are facing charges...I know they will be convicted one day.\" The PM claimed he'd waged a war on corruption because he's from a common household. \n",
      "실제 요약 : Those on bail will go to jail: PM Modi takes jibe at Rahul\n",
      "예측 요약 : \n",
      "\n",
      "원문 : Days after he threatened to step down from his post if Congress MLAs continue \"crossing the line,\" Karnataka Chief Minister HD Kumaraswamy accused them of taking potshots and asked, \"How many more days can I tolerate such stuff?\" Kumaraswamy, who made the statements after a Congress MLA demanded that Siddaramaiah be made CM again, said, \"Power is ephemeral.\"\n",
      "실제 요약 : How long can I tolerate Congress leaders' potshots: K'taka CM\n",
      "예측 요약 : \n",
      "\n",
      "원문 : Union Minister Dharmendra Pradhan on Wednesday claimed the illegal mining mafia in Odisha operates under the control of CM Naveen Patnaik and state Congress chief Niranjan Patnaik. He added, \"The time has come for the people of Odisha to put a full stop to their activities...The time has come for us to ask for an explanation from this corrupt government.\"\n",
      "실제 요약 : Odisha CM Patnaik controls mining mafia: Union Minister\n",
      "예측 요약 : \n",
      "\n"
     ]
    }
   ],
   "source": [
    "# 함수가 제대로 작동이 안되나 싶어서 반복문으로 확인\n",
    "# 제목의 최대 길이가 10었으니 단어수를 10개 로 맞춰보자 \n",
    "\n",
    "for i in range(0, 20):\n",
    "    print(\"원문 :\", text[i])\n",
    "    print(\"실제 요약 :\", data2['headlines'][i])\n",
    "    print(\"예측 요약 :\", summarize(text[i], words=10))\n",
    "    print()"
   ]
  },
  {
   "cell_type": "markdown",
   "metadata": {},
   "source": [
    "문장이 어색한 부분이 많은 건 둘째치고 요약 자체가 제대로 되지 않는 경우가 많다"
   ]
  },
  {
   "cell_type": "markdown",
   "metadata": {},
   "source": [
    "# 회고\n",
    "\n",
    "학습 시간이 너무 오래 걸려서 이것저것 테스트 해보기가 힘들었다\n",
    "\n",
    "추상적 요약은 일단 결과물을 다 내놓기는 하는데 내용의 퀄리티가 그다지 좋지는 않고\n",
    "\n",
    "추출적 요약은 제대로 결과물도 내놓지 못하면서 요약을 제대로 하지도 못하고 있다. \n",
    "\n",
    "바꿀 수 있는 숫자들을 몇개 바꿔봐도 상황이 크게 나아지는것 같지도 않고 모델 자체를 건드리자니 아는게 없어서 뭘 바꿀 수 있을 지 모르겠다...\n",
    "\n",
    "자연어처리 너무 어려워요...ㅠㅠ"
   ]
  }
 ],
 "metadata": {
  "accelerator": "GPU",
  "colab": {
   "authorship_tag": "ABX9TyPvpP9LXBV1H707/5Ud3frC",
   "collapsed_sections": [],
   "mount_file_id": "14GRNJtqY3xz0OvNQNKEs3AZSQwVOS3J2",
   "name": "Ex10prac.ipynb",
   "provenance": []
  },
  "kernelspec": {
   "display_name": "Python 3",
   "language": "python",
   "name": "python3"
  },
  "language_info": {
   "codemirror_mode": {
    "name": "ipython",
    "version": 3
   },
   "file_extension": ".py",
   "mimetype": "text/x-python",
   "name": "python",
   "nbconvert_exporter": "python",
   "pygments_lexer": "ipython3",
   "version": "3.7.9"
  }
 },
 "nbformat": 4,
 "nbformat_minor": 1
}
